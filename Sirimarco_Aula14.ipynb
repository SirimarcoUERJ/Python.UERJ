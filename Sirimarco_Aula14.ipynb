{
  "nbformat": 4,
  "nbformat_minor": 0,
  "metadata": {
    "colab": {
      "name": "Sirimarco_Aula14.ipynb",
      "provenance": [],
      "authorship_tag": "ABX9TyO2NAJ7724pMQpWsIJs+jSe",
      "include_colab_link": true
    },
    "kernelspec": {
      "name": "python3",
      "display_name": "Python 3"
    }
  },
  "cells": [
    {
      "cell_type": "markdown",
      "metadata": {
        "id": "view-in-github",
        "colab_type": "text"
      },
      "source": [
        "<a href=\"https://colab.research.google.com/github/SirimarcoUERJ/Python.UERJ/blob/master/Sirimarco_Aula14.ipynb\" target=\"_parent\"><img src=\"https://colab.research.google.com/assets/colab-badge.svg\" alt=\"Open In Colab\"/></a>"
      ]
    },
    {
      "cell_type": "code",
      "metadata": {
        "id": "hi5D44YZesbQ"
      },
      "source": [
        "class  MeuTempo : \n",
        "   \n",
        "  def  __init__ ( self ,  hrs = 0 ,  mins = 0 ,  segs = 0 ): \n",
        "    \"\"\" Criar um novo objeto MeuTempo inicializado para hrs, min, segs. \n",
        "        Os valores de mins e segs podem estar fora do intervalo de 0-59, \n",
        "        mas o objecto MeuTempo resultante será normalizado.  \"\"\" \n",
        "    # Calcular total de segundos para representar \n",
        "    self.totalsegs =  hrs * 3600  +  mins * 60  +  segs \n",
        "    self.horas =  self.totalsegs  //  3600         # Divisão em h, m, s \n",
        "    restosegs =  self.totalsegs  %  3600 \n",
        "    self.minutos  =  restosegs  //  60 \n",
        "    self.segundos  =  restosegs  %  60\n",
        "    if self.horas >=24:\n",
        "        self.horas = self.horas%24\n",
        "\n",
        "  def  to_seconds ( self ): \n",
        "    \"\"\" Retorna o número de segundos representados por esta instância \"\"\" \n",
        "    return  self.totalsegs\n",
        "    \n",
        "  def  __add__ ( self ,  other ): \n",
        "    \"\"\" Retorna a soma do tempo atual e outro, para utilizar com o simbolo + \"\"\"\n",
        "    return  MeuTempo ( 0 ,  0 ,  self.to_seconds()  +  other.to_seconds())\n",
        "\n",
        "  def __sub__(self, other):\n",
        "    \"\"\" Retorna a subtração do tempo atual e outro, para utilizar com o simbolo - \"\"\"\n",
        "    return MeuTempo(0,0,self.to_seconds() - other.to_seconds())\n",
        "\n",
        "  def __str__(self):\n",
        "    return (\"{} : {} : {}\".format(self.horas,self.minutos,self.segundos))\n",
        "  \n",
        "  def entre(self, t1, t2):\n",
        "    if t1.to_seconds() > t2.to_seconds():\n",
        "      if (t1.to_seconds() > self.to_seconds() and self.to_seconds() > t2.to_seconds()):\n",
        "        return True\n",
        "      else:\n",
        "        return False\n",
        "    if t2.to_seconds() > t1.to_seconds():\n",
        "      if (t2.to_seconds() > self.to_seconds() and self.to_seconds() > t1.to_seconds()):\n",
        "        return True\n",
        "      else:\n",
        "        return False\n",
        "  def __gt__(self, other):\n",
        "    if self.to_seconds() > other.to_seconds():\n",
        "      return True\n",
        "    else:\n",
        "      return False"
      ],
      "execution_count": null,
      "outputs": []
    },
    {
      "cell_type": "code",
      "metadata": {
        "colab": {
          "base_uri": "https://localhost:8080/"
        },
        "id": "dDdV_CMpfF7x",
        "outputId": "0ad7e0d9-30c5-4ed2-d974-b41d42d579d9"
      },
      "source": [
        "# Adicionar um método __str__ para que os objetos MeuTempo possam se imprimir decentemente.\n",
        "\n",
        "tim1  =  MeuTempo ( 11 ,  59 ,  30 )\n",
        "print(tim1)\n",
        "print(tim1.horas,\":\",tim1.minutos,\":\",tim1.segundos)"
      ],
      "execution_count": null,
      "outputs": [
        {
          "output_type": "stream",
          "text": [
            "11 : 59 : 30\n",
            "11 : 59 : 30\n"
          ],
          "name": "stdout"
        }
      ]
    },
    {
      "cell_type": "code",
      "metadata": {
        "id": "PvnzC7zvgeMr",
        "colab": {
          "base_uri": "https://localhost:8080/"
        },
        "outputId": "49852fea-3664-4277-8f8f-9a4087bf4a71"
      },
      "source": [
        "# Adicione um método __sub __ (self, other) que sobrecarrega o operador de subtração e teste-o.\n",
        "\n",
        "print((MeuTempo(11,51,00) - MeuTempo(00,70,00)))\n",
        "print((MeuTempo(11,51,00).__sub__(MeuTempo(00,70,00))))"
      ],
      "execution_count": null,
      "outputs": [
        {
          "output_type": "stream",
          "text": [
            "10 : 41 : 0\n",
            "10 : 41 : 0\n"
          ],
          "name": "stdout"
        }
      ]
    },
    {
      "cell_type": "code",
      "metadata": {
        "id": "d3hJsgS6uoYL"
      },
      "source": [
        "# Aula - 12\n",
        "\n",
        "class Point:\n",
        "    \"\"\" Cria um novo Ponto, com coordenadas x, y \"\"\"\n",
        "\n",
        "    def __init__(self, x=0, y=0):\n",
        "        \"\"\" Inicializa em x, y o novo ponto criado pela classe \"\"\"\n",
        "        self.x = x\n",
        "        self.y = y\n",
        "\n",
        "\n",
        "    def distancia_da_origem(self):\n",
        "        \"\"\" Calcula minha distânica da origem \"\"\"\n",
        "        return ((self.x ** 2) + (self.y ** 2)) ** 0.5\n",
        "    \n",
        "    def ponto_medio(self, alvo):\n",
        "        \"\"\" Retorna o ponto medio entre esse ponto e o alvo \"\"\"\n",
        "        mx = (self.x + alvo.x)/2\n",
        "        my = (self.y + alvo.y)/2\n",
        "        return Point(mx, my)\n",
        "    \n",
        "    def __str__(self):\n",
        "        return \"({0}, {1})\".format(self.x, self.y)\n",
        "\n",
        "# Exercicio\n",
        "    \n",
        "    def dist_2point(self, alvo):\n",
        "      \"\"\" calcula a distância entre dois pontos \"\"\"\n",
        "      dx = (self.x - alvo.x)\n",
        "      dy = (self.y - alvo.y)\n",
        "      return((dx*dx) + (dy*dy))**(0.5)\n",
        "    \n",
        "    def reflexao_x(self):\n",
        "      \"\"\" retorna uma instância de Ponto, que é o reflexo do Ponto sobre o eixo x \"\"\"\n",
        "      return (self.x, -self.y)\n",
        "\n",
        "    def inclinacao_da_origem(self):\n",
        "      \"\"\" retorne a inclinação da linha que une a origem ao Ponto \"\"\"\n",
        "      print(\"Esse metodo falha quando x = 0 pois a inclinação é infinita.\")\n",
        "      if self.x != 0:\n",
        "        return (self.y/self.x)\n",
        "      else:\n",
        "        if self.y > 0:\n",
        "          return float(\"inf\")\n",
        "        else:\n",
        "          return float(\"-inf\")\n",
        "\n",
        "    def parametros_reta(self,alvo):\n",
        "      \"\"\" retornar os dois coeficientes como uma tupla de dois valores \"\"\"\n",
        "      # y = a*x + b\n",
        "      print(\"Esse metodo falha quando os valores de x são iguais pois a inclinação é infinita.\")\n",
        "      if (self.x - alvo.x) != 0:\n",
        "        a = (self.y - alvo.y)/(self.x - alvo.x)\n",
        "        b = self.y - a * self.x\n",
        "        return (a, b)\n",
        "      else:\n",
        "        return(\"Eq: x = {}\".format(self.x))\n",
        "\n",
        "    def  __add__ ( self ,  other ): \n",
        "      \"\"\" Retorna a soma de dois Pontos (x1+x2, y1+y2)\"\"\"\n",
        "      return  Point( self.x + other.x , self.y + other.y ) \n",
        "\n",
        "    def __mul__ ( self ,  other ): #      \"\"\" Retorna o produto escalar de dois Pontos, ou a multiplicação escalar se for possível. \"\"\"\n",
        "      if isinstance(other,Point):\n",
        "        return  self.x  *  other.x  +  self.y  *  other.y\n",
        "      else:\n",
        "        try:\n",
        "          return Point(other * self.x , other *  self.y)\n",
        "        except:\n",
        "          return 'nan'        \n",
        "\n",
        "    def  __rmul__ ( self ,  other ): \n",
        "      \"\"\" Retorna o resultado da multiplicação escalar s * (x,y) = (s*x, s*y)\"\"\"\n",
        "      return Point( other * self.x , other * self.y )\n"
      ],
      "execution_count": null,
      "outputs": []
    },
    {
      "cell_type": "code",
      "metadata": {
        "colab": {
          "base_uri": "https://localhost:8080/"
        },
        "id": "ywIuf9yYwJX1",
        "outputId": "1a4e44f7-a609-45c4-8cca-ede61ea32c04"
      },
      "source": [
        "# 1 - Escreva uma função booleana chamada entre que tome dois objetos MeuTempo, t1 e t2 , como argumentos, e retorne True se um terceiro objeto MeuTempo invocado estiver entre os dois tempos.\n",
        "#   Suponha que o tempo t1 <= t2 , e faça o teste fechado no limite inferior e abra no limite superior, isto é, retorne True se t1 <= obj < t2.\n",
        "\n",
        "def entre(t1, t2, seu_tempo):\n",
        "  t1.to_seconds()\n",
        "  t2.to_seconds()\n",
        "  seu_tempo.to_seconds()\n",
        "\n",
        "  if t1.to_seconds() > t2.to_seconds():\n",
        "    if (t1.to_seconds() > seu_tempo.to_seconds() and seu_tempo.to_seconds() > t2.to_seconds()):\n",
        "      return True\n",
        "    else:\n",
        "      return False\n",
        "  if t2.to_seconds() > t1.to_seconds():\n",
        "    if (t2.to_seconds() > seu_tempo.to_seconds() and seu_tempo.to_seconds() > t1.to_seconds()):\n",
        "      return True\n",
        "    else:\n",
        "      return False\n",
        "\n",
        "t1 = MeuTempo(00,00,00)\n",
        "t2 = MeuTempo(23,59,59)\n",
        "seu_tempo = MeuTempo(11,00,00)\n",
        "print(entre(t1,t2,seu_tempo))\n"
      ],
      "execution_count": null,
      "outputs": [
        {
          "output_type": "stream",
          "text": [
            "True\n"
          ],
          "name": "stdout"
        }
      ]
    },
    {
      "cell_type": "code",
      "metadata": {
        "id": "ezVdVLzjwOsA",
        "colab": {
          "base_uri": "https://localhost:8080/"
        },
        "outputId": "1d0d6b5f-8ab2-40a6-836f-c4b1e70ffdd1"
      },
      "source": [
        "# 2 - Transforme a função acima em um método na classe MeuTempo.\n",
        "\n",
        "print(MeuTempo(11,00,00).entre(MeuTempo(23,59,59),MeuTempo(00,00,00)))\n"
      ],
      "execution_count": null,
      "outputs": [
        {
          "output_type": "stream",
          "text": [
            "True\n"
          ],
          "name": "stdout"
        }
      ]
    },
    {
      "cell_type": "code",
      "metadata": {
        "id": "Ub43sm0rwO4k",
        "colab": {
          "base_uri": "https://localhost:8080/"
        },
        "outputId": "153fecbf-fa14-4a0c-d3d7-a7cf8e4adb0b"
      },
      "source": [
        "# 3 - Sobrecarregue o(s) operador(es) necessário(s) --ver a lista de métodos especiais em https://docs.python.org/3/reference/datamodel.html#special-method-names -- para que, em vez de ter que escrever :\n",
        "\n",
        "#   if t1.depois( t2 ):  \n",
        "#     ...\n",
        "#   possamos usar o mais conveniente:\n",
        "#   if t1  >  t2 :  \n",
        "#     ...\n",
        "\n",
        "t1 = MeuTempo(6,00,00)\n",
        "t2 = MeuTempo(00,00,00)\n",
        "if t1 > t2:\n",
        "  print(\"Certo\")\n",
        "else:\n",
        "  print(\"Erro\")"
      ],
      "execution_count": null,
      "outputs": [
        {
          "output_type": "stream",
          "text": [
            "Certo\n"
          ],
          "name": "stdout"
        }
      ]
    },
    {
      "cell_type": "code",
      "metadata": {
        "id": "sm8r3cprw7VK"
      },
      "source": [
        "# 4 - Defina um novo tipo de tartaruga, TurtleGTX, que venha com alguns recursos extras: ela pode saltar para uma determinada distância, e tem um odômetro que rastreia até onde a tartaruga\n",
        "#   viajou desde que saiu da linha de produção. (A classe base tem vários sinônimos como fd e forward ; back , backward e bk : para este exercício, concentre-se apenas em colocar essa funcionalidade\n",
        "#   no método forward.) Pense cuidadosamente sobre como contar a distância se a tartaruga for solicitada a avançar por um valor negativo. (Não gostaríamos de comprar uma tartaruga de segunda mão cuja\n",
        "#   leitura do odômetro foi falsificada porque seu proprietário anterior a levou para trás ao redor do quarteirão com muita frequência. Tente isso em um carro perto de você e veja se o odômetro do carro \n",
        "#   conta para cima ou para baixo quando você marcha ré.)\n"
      ],
      "execution_count": null,
      "outputs": []
    },
    {
      "cell_type": "code",
      "metadata": {
        "id": "_2IPIVvDxKFT"
      },
      "source": [
        "# 5 - Depois de percorrer uma distância aleatória, sua tartaruga deve quebrar com um pneu furado. Depois disso, aumente uma exceção sempre que forward for chamado. \n",
        "#   Também forneça um método trocar_pneu que possa consertar o pneu furado e eliminar a exceção para a tartaruga continuar seu percorso."
      ],
      "execution_count": null,
      "outputs": []
    }
  ]
}