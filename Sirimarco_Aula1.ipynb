{
  "nbformat": 4,
  "nbformat_minor": 0,
  "metadata": {
    "colab": {
      "name": "Untitled0.ipynb",
      "provenance": [],
      "authorship_tag": "ABX9TyMxuXNXh4JZp+hIh9FeMGzM",
      "include_colab_link": true
    },
    "kernelspec": {
      "name": "python3",
      "display_name": "Python 3"
    }
  },
  "cells": [
    {
      "cell_type": "markdown",
      "metadata": {
        "id": "view-in-github",
        "colab_type": "text"
      },
      "source": [
        "<a href=\"https://colab.research.google.com/github/SirimarcoUERJ/Python.UERJ/blob/master/Sirimarco_Aula1.ipynb\" target=\"_parent\"><img src=\"https://colab.research.google.com/assets/colab-badge.svg\" alt=\"Open In Colab\"/></a>"
      ]
    },
    {
      "cell_type": "code",
      "metadata": {
        "id": "q3RI8dz78TqH",
        "outputId": "ea2c1672-7991-4cb2-d3e3-42cd4f2f7237",
        "colab": {
          "base_uri": "https://localhost:8080/",
          "height": 34
        }
      },
      "source": [
        "# 01) Se você fizer uma corrida de 10 quilômetros em 43 minutos e 30 segundos, qual será seu tempo médio por milha?\n",
        "#     Qual é a sua velocidade média em milhas por hora? (Dica: há 1,61 quilômetros em uma milha).\n",
        "t = 43.5   # minutos\n",
        "s = 16.1   # milhas\n",
        "Vm = s/(t/60)\n",
        "print(\"A velocidade média é\", Vm , \"mi/h.\")"
      ],
      "execution_count": null,
      "outputs": [
        {
          "output_type": "stream",
          "text": [
            "A velocidade média é 22.206896551724142 mi/h.\n"
          ],
          "name": "stdout"
        }
      ]
    },
    {
      "cell_type": "code",
      "metadata": {
        "id": "5nDQnoSZAlAX",
        "outputId": "a1d07d6d-80ab-4967-b706-a520b4525f19",
        "colab": {
          "base_uri": "https://localhost:8080/",
          "height": 34
        }
      },
      "source": [
        "# 02) Desde sua varanda você escuta o som do primeiro fogo artificial do reveillon 3 segundos depois de ver a luz, qual a distância?\n",
        "#     (o som tem velocidade 343 m/s e a luz %$3\\times 10^8$% m/s)\n",
        "Vs = 343  # metros/segundos\n",
        "t = 3     # segundos\n",
        "s = Vs*t\n",
        "print(\"Desconsiderando o tempo que a luz demora pra chegar até a varanda, podemos dizer que a esplosão dos fogos estava a\", s ,\"metros da varanda.\")"
      ],
      "execution_count": null,
      "outputs": [
        {
          "output_type": "stream",
          "text": [
            "Desconsiderando o tempo que a luz demora pra chegar até a varanda, podemos dizer que a esplosão dos fogos estava a 1029 metros da varanda.\n"
          ],
          "name": "stdout"
        }
      ]
    },
    {
      "cell_type": "code",
      "metadata": {
        "id": "pRusE2Xy_fRf",
        "outputId": "a347de6c-76cb-44a3-8468-ce1645d03672",
        "colab": {
          "base_uri": "https://localhost:8080/",
          "height": 34
        }
      },
      "source": [
        "# 3) Ache os zeros da função y = 3*x^2 - 4*x -10 :\n",
        "Delta = (-4)**2 - 4*3*(-10)\n",
        "x1 = (- (-4) - (Delta)**(1/2))/(2*3)\n",
        "x2 = (- (-4) + (Delta)**(1/2))/(2*3)\n",
        "print(\"O zeros da função são em x =\", x1 , \"e x =\", x2)"
      ],
      "execution_count": null,
      "outputs": [
        {
          "output_type": "stream",
          "text": [
            "O zeros da função são em x = -1.2769839649484336 e x = 2.610317298281767\n"
          ],
          "name": "stdout"
        }
      ]
    },
    {
      "cell_type": "code",
      "metadata": {
        "id": "og0rfHKeBY2i"
      },
      "source": [
        ""
      ],
      "execution_count": null,
      "outputs": []
    }
  ]
}