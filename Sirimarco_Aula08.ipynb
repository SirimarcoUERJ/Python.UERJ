{
  "nbformat": 4,
  "nbformat_minor": 0,
  "metadata": {
    "colab": {
      "name": "Sirimarco_Aula8.ipynb",
      "provenance": [],
      "authorship_tag": "ABX9TyNUrUmcW23A/5h+O+NX08yG",
      "include_colab_link": true
    },
    "kernelspec": {
      "name": "python3",
      "display_name": "Python 3"
    }
  },
  "cells": [
    {
      "cell_type": "markdown",
      "metadata": {
        "id": "view-in-github",
        "colab_type": "text"
      },
      "source": [
        "<a href=\"https://colab.research.google.com/github/SirimarcoUERJ/Python.UERJ/blob/master/Sirimarco_Aula8.ipynb\" target=\"_parent\"><img src=\"https://colab.research.google.com/assets/colab-badge.svg\" alt=\"Open In Colab\"/></a>"
      ]
    },
    {
      "cell_type": "code",
      "metadata": {
        "id": "_2mi-Y_FB4pV",
        "outputId": "ec4c1fd0-98a3-4f82-c4cd-89d1bb0a0242",
        "colab": {
          "base_uri": "https://localhost:8080/"
        }
      },
      "source": [
        "# Exercício: percorra toda a 'string' banana, utilizando as interações apresentadas nas aulas anteriores, \n",
        "#  e imprima na tela uma letra por linha como se fosse em uma escada.\n",
        "\n",
        "string = \"Banana\"\n",
        "for i in range(len(string)):\n",
        "  print(\"Letra[{}] = {}\".format(i,string[i]))"
      ],
      "execution_count": null,
      "outputs": [
        {
          "output_type": "stream",
          "text": [
            "Letra[0] = B\n",
            "Letra[1] = a\n",
            "Letra[2] = n\n",
            "Letra[3] = a\n",
            "Letra[4] = n\n",
            "Letra[5] = a\n"
          ],
          "name": "stdout"
        }
      ]
    },
    {
      "cell_type": "code",
      "metadata": {
        "id": "BmJBSfTdvOWB",
        "outputId": "1ae9d52c-4b73-4912-dfa2-5e377965c539",
        "colab": {
          "base_uri": "https://localhost:8080/"
        }
      },
      "source": [
        "# Exercício: escreva uma função que receba uma string como argumento e exiba as letras de trás para a frente, uma por linha.\n",
        "\n",
        "string = str(input(\"Digite uma palavra: \"))\n",
        "for i in range(len(string)):\n",
        "  print(string[-(i + 1)])"
      ],
      "execution_count": null,
      "outputs": [
        {
          "output_type": "stream",
          "text": [
            "Digite uma palavra: banana\n",
            "a\n",
            "n\n",
            "a\n",
            "n\n",
            "a\n",
            "b\n"
          ],
          "name": "stdout"
        }
      ]
    },
    {
      "cell_type": "code",
      "metadata": {
        "id": "xdSXKdoy1pnS"
      },
      "source": [
        "#1 - Resolução numérica de equações diferenciais. Imagine que tem um/a maratonista treinando, que num trecho de $5 km$ tem velocidade \n",
        "#   quase constante de $12 km/h$. Produza uma lista distância percorrida em intervalos de 1 minuto.\n",
        "def mu(x_i = 0 ,t_i = 0):\n",
        "\tv_f = (12/60)*1000 #metros/min\n",
        "\tt = t_i\n",
        "\tx = x_i\n",
        "\t#x = v_f*(t - t_i) + x_i\n",
        "\tspace_list = []\n",
        "\twhile (x < 5000):\n",
        "\t\tx = v_f*(t - t_i) + x_i\n",
        "\t\tt += 1\n",
        "\t\tspace_list.append(x)\n",
        "\treturn space_list\n",
        "\n",
        "lista = mu()\n",
        "for i in lista:\n",
        "\tprint(\"{} metros.\".format(i))"
      ],
      "execution_count": null,
      "outputs": []
    },
    {
      "cell_type": "code",
      "metadata": {
        "id": "c8kCajLbPK6m",
        "outputId": "06f14340-71a7-4b4c-a796-9f1880b456e1",
        "colab": {
          "base_uri": "https://localhost:8080/",
          "height": 296
        }
      },
      "source": [
        "#2 - O/A mesmo/a atleta no seguinte trecho acelera por $200$ metros até chegar em $15 km/h$ por $2 km$. \n",
        "#   Queremos obter uma tabela ou gráfico da distância percorrida en função do tempo e o tempo total para chegar em $7 km$, faça isto utilizando listas.\n",
        "\n",
        "import matplotlib.pyplot as plt\n",
        "\n",
        "def mu(x_i = 200 ,t_i = 0):\n",
        "\tv_f = (15/3.6) #metros/seg\n",
        "\tt = t_i\n",
        "\tx = x_i\n",
        "\t#x = v_f*(t - t_i) + x_i\n",
        "\tspace_list = []\n",
        "\twhile (x < 7000):\n",
        "\t\tx = v_f*(t - t_i) + x_i\n",
        "\t\tt += 1\n",
        "\t\tspace_list.append(x)\n",
        "\treturn space_list\n",
        "\n",
        "def muv(x_i = 0 ,t_i = 0 ,v_i = 0):\n",
        "\tv = 15/3.6\n",
        "\ta = (v**2 - v_i**2)/(2*(200))\n",
        "\tx = x_i\n",
        "\tt = t_i \n",
        "\tspace_list = []\n",
        "\twhile (x < 200):\n",
        "\t\tx = x_i + v_i*t + a*((t - t_i)**2)/2 \n",
        "\t\tt += 1\n",
        "\t\tspace_list.append(x)\n",
        "\treturn space_list\n",
        "\t\n",
        "\t\n",
        "listamu = mu()\n",
        "listamuv = muv()\n",
        "listamuv.extend(listamu)\n",
        "\n",
        "count = 0\n",
        "listime = []\n",
        "for i in listamuv:\n",
        "\tlistime.append(count)\n",
        "\tcount += 1\n",
        "\n",
        "plt.plot(listime, listamuv)\n",
        "plt.xlabel(\"tempo s\")\n",
        "plt.ylabel(\"distância m\")\n",
        "\n",
        "v = 15/3.6\n",
        "a = (v**2)/(2*(200))\n",
        "t1 = (2*200/a)**(0.5)\n",
        "t2 = (7000 - 200)/v\n",
        "\n",
        "t = t1 + t2\n",
        "print(\"Tempo até chegar ao final de 7km : {} s\".format(int(t)))"
      ],
      "execution_count": 12,
      "outputs": [
        {
          "output_type": "stream",
          "text": [
            "Tempo até chegar ao final de 7km : 1727 s\n"
          ],
          "name": "stdout"
        },
        {
          "output_type": "display_data",
          "data": {
            "image/png": "[encoded data removed]",
            "text/plain": [
              "<Figure size 432x288 with 1 Axes>"
            ]
          },
          "metadata": {
            "tags": [],
            "needs_background": "light"
          }
        }
      ]
    }
  ]
}
