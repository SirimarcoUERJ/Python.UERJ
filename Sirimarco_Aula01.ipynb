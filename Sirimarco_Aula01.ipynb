{
  "nbformat": 4,
  "nbformat_minor": 0,
  "metadata": {
    "colab": {
      "name": "Sirimarco_Aula01.ipynb",
      "provenance": [],
      "authorship_tag": "ABX9TyPNjwdQGVDg8q1t8seuevoQ",
      "include_colab_link": true
    },
    "kernelspec": {
      "name": "python3",
      "display_name": "Python 3"
    }
  },
  "cells": [
    {
      "cell_type": "markdown",
      "metadata": {
        "id": "view-in-github",
        "colab_type": "text"
      },
      "source": [
        "<a href=\"https://colab.research.google.com/github/SirimarcoUERJ/Python.UERJ/blob/master/Sirimarco_Aula01.ipynb\" target=\"_parent\"><img src=\"https://colab.research.google.com/assets/colab-badge.svg\" alt=\"Open In Colab\"/></a>"
      ]
    },
    {
      "cell_type": "code",
      "metadata": {
        "id": "q3RI8dz78TqH",
        "colab": {
          "base_uri": "https://localhost:8080/",
          "height": 34
        },
        "outputId": "d1ed0fb3-8548-4b6e-8026-b377bc493f52"
      },
      "source": [
        "# 01) Se você fizer uma corrida de 10 quilômetros em 43 minutos e 30 segundos, qual será seu tempo médio por milha?\n",
        "#     Qual é a sua velocidade média em milhas por hora? (Dica: há 1,61 quilômetros em uma milha).\n",
        "t = 43.5   # minutos\n",
        "s = 16.1   # milhas\n",
        "Vm = s/(t/60)\n",
        "print(\"A velocidade média é\", Vm , \"mi/h e o tempo medio por milha é\", 1/Vm, \"H/mi\")"
      ],
      "execution_count": null,
      "outputs": [
        {
          "output_type": "stream",
          "text": [
            "A velocidade média é 22.206896551724142 mi/h e o tempo medio por milha é 0.045031055900621106 H/mi\n"
          ],
          "name": "stdout"
        }
      ]
    },
    {
      "cell_type": "code",
      "metadata": {
        "id": "5nDQnoSZAlAX",
        "colab": {
          "base_uri": "https://localhost:8080/",
          "height": 34
        },
        "outputId": "a1d07d6d-80ab-4967-b706-a520b4525f19"
      },
      "source": [
        "# 02) Desde sua varanda você escuta o som do primeiro fogo artificial do reveillon 3 segundos depois de ver a luz, qual a distância?\n",
        "#     (o som tem velocidade 343 m/s e a luz %$3\\times 10^8$% m/s)\n",
        "Vs = 343  # metros/segundos\n",
        "t = 3     # segundos\n",
        "s = Vs*t\n",
        "print(\"Desconsiderando o tempo que a luz demora pra chegar até a varanda, podemos dizer que a esplosão dos fogos estava a\", s ,\"metros da varanda.\")"
      ],
      "execution_count": null,
      "outputs": [
        {
          "output_type": "stream",
          "text": [
            "Desconsiderando o tempo que a luz demora pra chegar até a varanda, podemos dizer que a esplosão dos fogos estava a 1029 metros da varanda.\n"
          ],
          "name": "stdout"
        }
      ]
    },
    {
      "cell_type": "code",
      "metadata": {
        "id": "pRusE2Xy_fRf",
        "colab": {
          "base_uri": "https://localhost:8080/",
          "height": 34
        },
        "outputId": "a347de6c-76cb-44a3-8468-ce1645d03672"
      },
      "source": [
        "# 3) Ache os zeros da função y = 3*x^2 - 4*x -10 :\n",
        "Delta = (-4)**2 - 4*3*(-10)\n",
        "x1 = (- (-4) - (Delta)**(1/2))/(2*3)\n",
        "x2 = (- (-4) + (Delta)**(1/2))/(2*3)\n",
        "print(\"O zeros da função são em x =\", x1 , \"e x =\", x2)"
      ],
      "execution_count": null,
      "outputs": [
        {
          "output_type": "stream",
          "text": [
            "O zeros da função são em x = -1.2769839649484336 e x = 2.610317298281767\n"
          ],
          "name": "stdout"
        }
      ]
    },
    {
      "cell_type": "code",
      "metadata": {
        "id": "og0rfHKeBY2i",
        "colab": {
          "base_uri": "https://localhost:8080/",
          "height": 34
        },
        "outputId": "e6ec8be1-ee2c-4a56-9c40-ff8a0c8cd2d2"
      },
      "source": [
        "import math\n",
        "# 4) Se, ao meio dia, a sombra de um poste de 5 m de altura tem apenas 50 cm de comprimento no chão, qual o ângulo zenital do sol? \n",
        "altura_poste = 500\n",
        "sombra_poste = 50\n",
        "x = math.atan(sombra_poste/altura_poste)\n",
        "print(x, \"É o ângulo zenital do sol\")"
      ],
      "execution_count": null,
      "outputs": [
        {
          "output_type": "stream",
          "text": [
            "0.09966865249116204 É o ângulo zenital do sol\n"
          ],
          "name": "stdout"
        }
      ]
    },
    {
      "cell_type": "code",
      "metadata": {
        "id": "C5TIGos-zA9W",
        "colab": {
          "base_uri": "https://localhost:8080/",
          "height": 34
        },
        "outputId": "ce6cb32c-2d5f-4ef0-ef76-964bc0d37842"
      },
      "source": [
        "# 5) Calcule o seu %$IMC = \\dfrac{M}{A^2}$% (com a massa em Kg e a altura em metros). Um valor saudável estara --em geral-- entre 20-25.\n",
        "# Um bebê de 6 meses \"gorducho\" tem 70 cm de \"comprimento\" e 11 kg de massa, qual o IMC dele?\n",
        "massa = 11 \n",
        "altura = 0.7\n",
        "IMC = massa/altura**2\n",
        "print(\"O IMC do bebê é\", IMC)"
      ],
      "execution_count": null,
      "outputs": [
        {
          "output_type": "stream",
          "text": [
            "O IMC do bebê é 22.44897959183674\n"
          ],
          "name": "stdout"
        }
      ]
    },
    {
      "cell_type": "code",
      "metadata": {
        "id": "mRsj2yvb1_zT",
        "colab": {
          "base_uri": "https://localhost:8080/",
          "height": 34
        },
        "outputId": "0f8d54b9-ded8-43a6-db37-146b5c3747f3"
      },
      "source": [
        "# 5) Calcule a velocidade final de um objeto em queda livre a partir de 3 metros de altura (sem resistencia do ar).\n",
        "# Calcule o tempo que esse objeto demora para cair.\n",
        "g = 9.8\n",
        "dx = 3\n",
        "v = (2*g*dx)**(0.5)\n",
        "t = v/g\n",
        "print(\"A velocidade final é {} e o tempo até a queda é {}\".format(v,t))"
      ],
      "execution_count": null,
      "outputs": [
        {
          "output_type": "stream",
          "text": [
            "A velocidade final é 7.6681158050723255 e o tempo até a queda é 0.7824607964359516\n"
          ],
          "name": "stdout"
        }
      ]
    }
  ]
}