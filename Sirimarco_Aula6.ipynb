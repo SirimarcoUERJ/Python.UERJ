{
  "nbformat": 4,
  "nbformat_minor": 0,
  "metadata": {
    "colab": {
      "name": "Sirimarco_Aula6.ipynb",
      "provenance": [],
      "authorship_tag": "ABX9TyOwuR1vx6vDJwtqPW5i6MDY",
      "include_colab_link": true
    },
    "kernelspec": {
      "name": "python3",
      "display_name": "Python 3"
    }
  },
  "cells": [
    {
      "cell_type": "markdown",
      "metadata": {
        "id": "view-in-github",
        "colab_type": "text"
      },
      "source": [
        "<a href=\"https://colab.research.google.com/github/SirimarcoUERJ/Python.UERJ/blob/master/Sirimarco_Aula6.ipynb\" target=\"_parent\"><img src=\"https://colab.research.google.com/assets/colab-badge.svg\" alt=\"Open In Colab\"/></a>"
      ]
    },
    {
      "cell_type": "code",
      "metadata": {
        "id": "y97W463xpCRc"
      },
      "source": [
        "#1 - Modifique-o para que o resultado seja um histograma, como o mostrado na figura abaixo. Amplie seu script para que seja possível\n",
        "#    passar ao programa dados (frequência), com o valor do bin (classe de frequência) e cores determinados pelo usuário.\n",
        "import turtle\n",
        "\n",
        "def draw_bar(t, height):\n",
        "    \"\"\" Get turtle t to draw one bar, of height. \"\"\"\n",
        "\n",
        "    t.forward(height)\n",
        "    t.right(90)\n",
        "    t.forward(40)\n",
        "    t.right(90)\n",
        "    t.forward(height)\n",
        "    t.left(90)\n",
        "    t.forward(10)\n",
        "    t.left(90)\n",
        "\n",
        "tess = turtle.Turtle()   # inicialização\n",
        "\n",
        "tess.color(\"blue\")\n",
        "tess.penup() #levantar a caneta\n",
        "tess.goto(-250,0) #mudar posicao de inicio \n",
        "tess.left(90)\n",
        "tess.pendown() #abaixar a caneta\n",
        "\n",
        "arquivo = open(\"arquivoteste.txt\", \"r\")\n",
        "\n",
        "\n",
        "for line in arquivo:\n",
        "\tvalor = line\n",
        "\tdraw_bar(tess, float(valor))\n",
        "\n",
        "#line = [48,117,200,240,160,260,220]\n",
        "\n",
        "arquivo.close()\n"
      ],
      "execution_count": null,
      "outputs": []
    },
    {
      "cell_type": "code",
      "metadata": {
        "id": "KfEtnSmB_zwV"
      },
      "source": [
        ""
      ],
      "execution_count": null,
      "outputs": []
    }
  ]
}