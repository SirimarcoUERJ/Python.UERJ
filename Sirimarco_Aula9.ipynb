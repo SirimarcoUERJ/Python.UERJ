{
  "nbformat": 4,
  "nbformat_minor": 0,
  "metadata": {
    "colab": {
      "name": "Sirimarco_Aula9.ipynb",
      "provenance": [],
      "authorship_tag": "ABX9TyMHgg6kAVkv8+9m2Az2+K4g",
      "include_colab_link": true
    },
    "kernelspec": {
      "name": "python3",
      "display_name": "Python 3"
    }
  },
  "cells": [
    {
      "cell_type": "markdown",
      "metadata": {
        "id": "view-in-github",
        "colab_type": "text"
      },
      "source": [
        "<a href=\"https://colab.research.google.com/github/SirimarcoUERJ/Python.UERJ/blob/master/Sirimarco_Aula9.ipynb\" target=\"_parent\"><img src=\"https://colab.research.google.com/assets/colab-badge.svg\" alt=\"Open In Colab\"/></a>"
      ]
    },
    {
      "cell_type": "code",
      "metadata": {
        "colab": {
          "base_uri": "https://localhost:8080/"
        },
        "id": "6_5hqywL1tZt",
        "outputId": "2be82c7b-e4d5-4a4d-9fd3-8d61d5507ee6"
      },
      "source": [
        "def TrocaLista(lista):\n",
        "  \"\"\" Reescreve os elementos de uma_lista com o dobro de seus valores originais.\n",
        "  \"\"\"\n",
        "  lista2 = []\n",
        "  for (i,valor) in enumerate(lista):\n",
        "    lista2.append(i)\n",
        "    lista2[i] = 2 * lista[i]\n",
        "\n",
        "  return lista2\n",
        "list = [1,2,3]\n",
        "help(TrocaLista)\n",
        "print(TrocaLista(list))\n",
        "print(list)"
      ],
      "execution_count": null,
      "outputs": [
        {
          "output_type": "stream",
          "text": [
            "Help on function TrocaLista in module __main__:\n",
            "\n",
            "TrocaLista(lista)\n",
            "    Reescreve os elementos de uma_lista com o dobro de seus valores originais.\n",
            "\n",
            "[2, 4, 6]\n",
            "[1, 2, 3]\n"
          ],
          "name": "stdout"
        }
      ]
    },
    {
      "cell_type": "code",
      "metadata": {
        "id": "N3l4O622Uqfw"
      },
      "source": [
        "#1 - Utilizando um arquivo de dados com várias colunas (por exemplo, o arquivo dados_alunos.txt), faça um histograma com os dados de cada uma das colunas. \n",
        "# Dica: utilize o matplotlib para fazer os histogramas."
      ],
      "execution_count": null,
      "outputs": []
    },
    {
      "cell_type": "code",
      "metadata": {
        "colab": {
          "base_uri": "https://localhost:8080/"
        },
        "id": "fzJ5-bOkUU5u",
        "outputId": "567faa52-994f-4542-cdc4-e57bd9890e34"
      },
      "source": [
        "%%writefile dados_alunos.txt\n",
        "18\t1.68\t80\n",
        "18\t1.94\t60\n",
        "18\t1.7\t80\n",
        "18\t1.76\t66\n",
        "19\t1.73\t87.5\n",
        "18\t1.66\t58\n",
        "21\t1.8\t92\n",
        "18\t1.6\t57\n",
        "18\t1.67\t64\n",
        "18\t1.73\t57\n",
        "17\t1.73\t75\n",
        "18\t1.61\t59\n",
        "18\t1.69\t90\n",
        "17\t1.71\t67\n",
        "19\t1.78\t60\n",
        "22\t1.68\t72\n",
        "18\t1.7\t73\n",
        "19\t1.64\t86\n",
        "18\t1.64\t75\n",
        "20\t1.8\t95\n",
        "17\t1.75\t60\n",
        "18\t1.78\t75\n",
        "18\t1.75\t65\n",
        "17\t1.69\t60\n",
        "19\t1.78\t73\n",
        "18\t1.7\t63\n",
        "34\t1.75\t78\n",
        "18\t1.64\t64\n",
        "19\t1.75\t50\n",
        "18\t1.67\t61\n",
        "18\t1.7\t70\n",
        "20\t1.8\t60\n",
        "18\t1.63\t57\n",
        "23\t1.89\t110\n",
        "18\t1.71\t71\n",
        "18\t1.65\t65\n",
        "17\t1.72\t67\n",
        "19\t1.65\t58\n",
        "18\t1.75\t90\n",
        "18\t1.7\t64\n",
        "19\t1.81\t70\n",
        "19\t1.65\t43\n",
        "28\t1.52\t50\n",
        "19\t1.79\t78\n",
        "26\t1.79\t82\n",
        "19\t1.75\t61\n",
        "19\t1.8\t70\n",
        "20\t1.75\t70\n",
        "20\t1.73\t70\n",
        "19\t1.7\t50\n",
        "22\t1.78\t72\n",
        "19\t1.77\t55\n",
        "18\t1.53\t58\n",
        "28\t1.54\t50\n",
        "20\t1.83\t70\n",
        "44\t1.85\t90\n",
        "18\t1.6\t51"
      ],
      "execution_count": null,
      "outputs": [
        {
          "output_type": "stream",
          "text": [
            "Overwriting dados_alunos.txt\n"
          ],
          "name": "stdout"
        }
      ]
    },
    {
      "cell_type": "code",
      "metadata": {
        "id": "dBz0nZ1cU__N",
        "colab": {
          "base_uri": "https://localhost:8080/",
          "height": 534
        },
        "outputId": "30c3520a-09ee-4db2-8382-3f800dcb100a"
      },
      "source": [
        "import matplotlib.pyplot as plt\n",
        "\n",
        "data = open(\"dados_alunos.txt\")\n",
        "x = []\n",
        "y = []\n",
        "z = []\n",
        "for linha in data:\n",
        "  a = linha.split()\n",
        "  x.append(a[0])\n",
        "  y.append(a[1])\n",
        "  z.append(a[2])\n",
        "x.sort()\n",
        "y.sort()\n",
        "z.sort()\n",
        "#fig , axes = plt.subplots(2,1,figsize=(12,8))\n",
        "fig , ax = plt.subplots(3, 1, figsize=(15,8))\n",
        "ax[0].hist(x)\n",
        "ax[1].hist(y)\n",
        "ax[2].hist(z)"
      ],
      "execution_count": null,
      "outputs": [
        {
          "output_type": "execute_result",
          "data": {
            "text/plain": [
              "(array([6., 5., 9., 3., 6., 9., 4., 7., 3., 5.]),\n",
              " array([ 0. ,  2.7,  5.4,  8.1, 10.8, 13.5, 16.2, 18.9, 21.6, 24.3, 27. ]),\n",
              " <a list of 10 Patch objects>)"
            ]
          },
          "metadata": {
            "tags": []
          },
          "execution_count": 16
        },
        {
          "output_type": "display_data",
          "data": {
            "image/png": "[encoded data removed]",
            "text/plain": [
              "<Figure size 1080x576 with 3 Axes>"
            ]
          },
          "metadata": {
            "tags": [],
            "needs_background": "light"
          }
        }
      ]
    },
    {
      "cell_type": "code",
      "metadata": {
        "colab": {
          "base_uri": "https://localhost:8080/"
        },
        "id": "qI5lsMv8N2QX",
        "outputId": "0bc98ccc-c085-4ff2-f9a1-8541977f46c2"
      },
      "source": [
        "# 2 - Estude os métodos do módulo os e faça um script que liste todos os arquivos de um dado diretório assim como de seus subdiretórios. Dica: use o método walk.\n",
        "import os\n",
        "list_dir = os.listdir()\n",
        "main_dir = list_dir[0]\n",
        "for dir, subdir, files in os.walk(main_dir):\n",
        "  print(subdir)"
      ],
      "execution_count": null,
      "outputs": [
        {
          "output_type": "stream",
          "text": [
            "['logs', 'configurations']\n",
            "['2020.11.13']\n",
            "[]\n",
            "[]\n"
          ],
          "name": "stdout"
        }
      ]
    },
    {
      "cell_type": "code",
      "metadata": {
        "id": "caaMJZ3aGeLN",
        "colab": {
          "base_uri": "https://localhost:8080/"
        },
        "outputId": "47eea9a3-36d5-4710-a9d1-276aa470a7a6"
      },
      "source": [
        "# 3 - Reescreva o script dessa aula, lcount.py na forma de uma módulo. Qual o valor da variável __name__ quando o módulo é importado?\n",
        "\n",
        "%%writefile lcount.py\n",
        "def linecount(filename):\n",
        "    count = 0\n",
        "    for line in open(filename):\n",
        "        count += 1\n",
        "    return count\n",
        "\n",
        "#linecount('lcount.py')\n",
        "print(__name__)"
      ],
      "execution_count": null,
      "outputs": [
        {
          "output_type": "stream",
          "text": [
            "Overwriting lcount.py\n"
          ],
          "name": "stdout"
        }
      ]
    },
    {
      "cell_type": "code",
      "metadata": {
        "colab": {
          "base_uri": "https://localhost:8080/"
        },
        "id": "cmGxuD9zx3ra",
        "outputId": "9cb80dcb-7561-4908-d65d-ae4401c99e02"
      },
      "source": [
        "%cat lcount.py"
      ],
      "execution_count": null,
      "outputs": [
        {
          "output_type": "stream",
          "text": [
            "def linecount(filename):\n",
            "    count = 0\n",
            "    for line in open(filename):\n",
            "        count += 1\n",
            "    return count\n",
            "\n",
            "#linecount('lcount.py')\n",
            "print(__name__)"
          ],
          "name": "stdout"
        }
      ]
    },
    {
      "cell_type": "code",
      "metadata": {
        "id": "memZPsFXyLVl"
      },
      "source": [
        "import lcount\n",
        "\n",
        "# o valor de __name__ quando o módulo é importado é o proprio nome dele sem a extensão .py"
      ],
      "execution_count": null,
      "outputs": []
    },
    {
      "cell_type": "code",
      "metadata": {
        "colab": {
          "base_uri": "https://localhost:8080/"
        },
        "id": "8PzaqqpbFO4D",
        "outputId": "f8ea3d56-2713-4abd-ecee-a833f08692b9"
      },
      "source": [
        "# 4 - Escreva uma função chamada ler_arquivos que tome como argumento um nome de arquivo, leia um arquivo com um número qualquer de colunas e retorne um dicionário que tenha como keys\n",
        "#   os números das colunas e como valor uma lista dos valores associados a cada coluna do arquivo. Use o arquivo dados_alunos.txt. Caso o arquivo tiver o cabeçalho das colunas, p.ex.\n",
        "#   dados_alunos_cabecalho.txt, a key deve ser a palavra do cabeçalho.\n",
        "import os.path\n",
        "\n",
        "def ler_arquivos(file_name):\n",
        "  if os.path.exists(str(file_name)):\n",
        "    arq = open(str(file_name), \"r\")\n",
        "    count = 0\n",
        "\n",
        "    for line in arq:\n",
        "      if count == 0:\n",
        "        list_of_list = [[] for i in range(len(line.split()))] #cria uma lista com n listas, n = numero de colunas de arq.\n",
        "        count += 1\n",
        "      for i in range(len(line.split())):\n",
        "        list_of_list[i].append(float(line.split()[i]))\n",
        "    for i in range(len(line.split())):\n",
        "      list_of_list[i].sort()\n",
        "  else:\n",
        "    print(\"O arquivo {} não existe.\".format(file_name))\n",
        "\n",
        "  return list_of_list\n",
        "\n",
        "\n",
        "print(ler_arquivos(\"dados_alunos.txt\"))\n"
      ],
      "execution_count": null,
      "outputs": [
        {
          "output_type": "stream",
          "text": [
            "[[17.0, 17.0, 17.0, 17.0, 17.0, 18.0, 18.0, 18.0, 18.0, 18.0, 18.0, 18.0, 18.0, 18.0, 18.0, 18.0, 18.0, 18.0, 18.0, 18.0, 18.0, 18.0, 18.0, 18.0, 18.0, 18.0, 18.0, 18.0, 18.0, 18.0, 19.0, 19.0, 19.0, 19.0, 19.0, 19.0, 19.0, 19.0, 19.0, 19.0, 19.0, 19.0, 19.0, 20.0, 20.0, 20.0, 20.0, 20.0, 21.0, 22.0, 22.0, 23.0, 26.0, 28.0, 28.0, 34.0, 44.0], [1.52, 1.53, 1.54, 1.6, 1.6, 1.61, 1.63, 1.64, 1.64, 1.64, 1.65, 1.65, 1.65, 1.66, 1.67, 1.67, 1.68, 1.68, 1.69, 1.69, 1.7, 1.7, 1.7, 1.7, 1.7, 1.7, 1.71, 1.71, 1.72, 1.73, 1.73, 1.73, 1.73, 1.75, 1.75, 1.75, 1.75, 1.75, 1.75, 1.75, 1.76, 1.77, 1.78, 1.78, 1.78, 1.78, 1.79, 1.79, 1.8, 1.8, 1.8, 1.8, 1.81, 1.83, 1.85, 1.89, 1.94], [43.0, 50.0, 50.0, 50.0, 50.0, 51.0, 55.0, 57.0, 57.0, 57.0, 58.0, 58.0, 58.0, 59.0, 60.0, 60.0, 60.0, 60.0, 60.0, 61.0, 61.0, 63.0, 64.0, 64.0, 64.0, 65.0, 65.0, 66.0, 67.0, 67.0, 70.0, 70.0, 70.0, 70.0, 70.0, 70.0, 71.0, 72.0, 72.0, 73.0, 73.0, 75.0, 75.0, 75.0, 78.0, 78.0, 80.0, 80.0, 82.0, 86.0, 87.5, 90.0, 90.0, 90.0, 92.0, 95.0, 110.0]]\n"
          ],
          "name": "stdout"
        }
      ]
    },
    {
      "cell_type": "code",
      "metadata": {
        "colab": {
          "base_uri": "https://localhost:8080/"
        },
        "id": "NyfxwGV6WFWh",
        "outputId": "ec423736-441e-4749-dd8d-12647d2ca9f3"
      },
      "source": [
        "# 5 - Adapte o script acima para ser um módulo.\n",
        "%%writefile read.py\n",
        "\n",
        "import os.path\n",
        "\n",
        "def ler_arquivos(file_name):\n",
        "  if os.path.exists(str(file_name)):\n",
        "    arq = open(str(file_name), \"r\")\n",
        "    count = 0\n",
        "\n",
        "    for line in arq:\n",
        "      if count == 0:\n",
        "        list_of_list = [[] for i in range(len(line.split()))] #cria uma lista com n listas, n = numero de colunas de arq.\n",
        "        count += 1\n",
        "      for i in range(len(line.split())):\n",
        "        list_of_list[i].append(float(line.split()[i]))\n",
        "    for i in range(len(line.split())):\n",
        "      list_of_list[i].sort()\n",
        "  else:\n",
        "    print(\"O arquivo {} não existe.\".format(file_name))\n",
        "\n",
        "  return list_of_list\n",
        "\n",
        "\n",
        "#print(ler_arquivos(\"dados_alunos.txt\"))"
      ],
      "execution_count": null,
      "outputs": [
        {
          "output_type": "stream",
          "text": [
            "Overwriting read.py\n"
          ],
          "name": "stdout"
        }
      ]
    },
    {
      "cell_type": "code",
      "metadata": {
        "colab": {
          "base_uri": "https://localhost:8080/",
          "height": 732
        },
        "id": "ruT4emJdoun6",
        "outputId": "f68c6e22-e962-42fa-a174-f6869630f017"
      },
      "source": [
        "# 6 - Escreva um script que importe o módulo criado acima e faça um histograma para cada coluna do arquivo, com seus respectivos valores. Use o dicionário ou a estrutura de dados criada em 1).\n",
        "\n",
        "import read\n",
        "import matplotlib.pyplot as plt\n",
        "\n",
        "lista = read.ler_arquivos(\"dados_alunos.txt\")\n",
        "\n",
        "fig, ax = plt.subplots(3, 1, figsize=(12,12))\n",
        "ax[0].hist(lista[0])\n",
        "ax[0].set_ylabel(\"Idade\")\n",
        "ax[0].set_xlabel(\"Frequência\")\n",
        "ax[1].hist(lista[1])\n",
        "ax[1].set_xlabel(\"Frequência\")\n",
        "ax[1].set_ylabel(\"Altura\")\n",
        "ax[2].hist(lista[2])\n",
        "ax[2].set_xlabel(\"Frequência\")\n",
        "ax[2].set_ylabel(\"Peso\")"
      ],
      "execution_count": null,
      "outputs": [
        {
          "output_type": "execute_result",
          "data": {
            "text/plain": [
              "Text(0, 0.5, 'Peso')"
            ]
          },
          "metadata": {
            "tags": []
          },
          "execution_count": 11
        },
        {
          "output_type": "display_data",
          "data": {
            "image/png": "[encoded data removed]",
            "text/plain": [
              "<Figure size 864x864 with 3 Axes>"
            ]
          },
          "metadata": {
            "tags": [],
            "needs_background": "light"
          }
        }
      ]
    },
    {
      "cell_type": "code",
      "metadata": {
        "colab": {
          "base_uri": "https://localhost:8080/",
          "height": 922
        },
        "id": "GmqXQ9Mmvhtq",
        "outputId": "c20b378a-60c3-475f-948b-4eda3aba54ad"
      },
      "source": [
        "# 7 - Adicione uma função ao script criado em 6), que calcule o desvio padrão amostral, desvio padrão populacional e média de cada distribuição representada nos histogramas acima.\n",
        "#  Para tal, use o módulo statistics do Python ou outro módulo de Python (numpy, scipy).\n",
        "\n",
        "import numpy as np\n",
        "import matplotlib.pyplot as plt\n",
        "import read\n",
        "\n",
        "lista = read.ler_arquivos(\"dados_alunos.txt\")\n",
        "\n",
        "fig, ax = plt.subplots(3, 1, figsize=(12,12))\n",
        "ax[0].hist(lista[0])\n",
        "ax[0].set_ylabel(\"Idade\")\n",
        "ax[0].set_xlabel(\"Frequência\")\n",
        "ax[1].hist(lista[1])\n",
        "ax[1].set_xlabel(\"Frequência\")\n",
        "ax[1].set_ylabel(\"Altura\")\n",
        "ax[2].hist(lista[2])\n",
        "ax[2].set_xlabel(\"Frequência\")\n",
        "ax[2].set_ylabel(\"Peso\")\n",
        "\n",
        "\n",
        "list_atri = [\"Idade\", \"Altura\", \"Massa\"]\n",
        "\n",
        "for i in range(len(list_atri)):\n",
        "  print(\"{}: média = {}\".format(list_atri[i],np.mean(lista[i])))\n",
        "  print(\"{}: desvio padrão amostral = {}\".format(list_atri[i],np.std(lista[i])))\n",
        "  print(\"{}: desvio padrão populacional = {}\".format(list_atri[i],np.std(lista[i], ddof=1)))\n",
        "  print(\"\")\n"
      ],
      "execution_count": null,
      "outputs": [
        {
          "output_type": "stream",
          "text": [
            "Idade: média = 19.82456140350877\n",
            "Idade: desvio padrão amostral = 4.413387953566483\n",
            "Idade: desvio padrão populacional = 4.452618840226598\n",
            "\n",
            "Altura: média = 1.7175438596491228\n",
            "Altura: desvio padrão amostral = 0.08189168502559452\n",
            "Altura: desvio padrão populacional = 0.08261962543043673\n",
            "\n",
            "Massa: média = 68.5\n",
            "Massa: desvio padrão amostral = 13.108855986056064\n",
            "Massa: desvio padrão populacional = 13.225381441974152\n",
            "\n"
          ],
          "name": "stdout"
        },
        {
          "output_type": "display_data",
          "data": {
            "image/png": "[encoded data removed]",
            "text/plain": [
              "<Figure size 864x864 with 3 Axes>"
            ]
          },
          "metadata": {
            "tags": [],
            "needs_background": "light"
          }
        }
      ]
    }
  ]
}