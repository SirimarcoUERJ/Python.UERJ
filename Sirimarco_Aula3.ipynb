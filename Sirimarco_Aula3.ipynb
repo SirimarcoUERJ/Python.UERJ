{
  "nbformat": 4,
  "nbformat_minor": 0,
  "metadata": {
    "colab": {
      "name": "Sirimarco_Aula3.ipynb",
      "provenance": [],
      "authorship_tag": "ABX9TyPJnqe/I9CblHxYx9Qxj7Xf",
      "include_colab_link": true
    },
    "kernelspec": {
      "name": "python3",
      "display_name": "Python 3"
    }
  },
  "cells": [
    {
      "cell_type": "markdown",
      "metadata": {
        "id": "view-in-github",
        "colab_type": "text"
      },
      "source": [
        "<a href=\"https://colab.research.google.com/github/SirimarcoUERJ/Python.UERJ/blob/master/Sirimarco_Aula3.ipynb\" target=\"_parent\"><img src=\"https://colab.research.google.com/assets/colab-badge.svg\" alt=\"Open In Colab\"/></a>"
      ]
    },
    {
      "cell_type": "code",
      "metadata": {
        "id": "uqMEme_9xODY",
        "outputId": "c6f8e158-c92a-4ef8-a083-9502307d9d55",
        "colab": {
          "base_uri": "https://localhost:8080/",
          "height": 51
        }
      },
      "source": [
        "# 1) Crie uma funcão que tome um argumento e imprima o valor e o tipo dele.\n",
        "\n",
        "def type_value(x):\n",
        "  print(\"O valor da variavel é\", x, \".\")\n",
        "  print(\"O tipo da variavel é\", type(x), \".\")\n",
        "\n",
        "type_value(5)"
      ],
      "execution_count": 2,
      "outputs": [
        {
          "output_type": "stream",
          "text": [
            "O valor da variavel é 5 .\n",
            "O tipo da variavel é <class 'int'> .\n"
          ],
          "name": "stdout"
        }
      ]
    },
    {
      "cell_type": "code",
      "metadata": {
        "id": "SoKJLj5M4pOa",
        "outputId": "24a00e9f-c72e-4f30-f932-3944157ae07a",
        "colab": {
          "base_uri": "https://localhost:8080/",
          "height": 51
        }
      },
      "source": [
        "# 2)Crie uma função que calcule e imprima velocidade media de um objeto a partir de uma posição inicial, a final e o tempo transcorrido para um objeto em MRU. \n",
        "#  Também crie uma funcão que calcule e imprima a velocidade de um objeto a partir da aceleração constante e o tempo (MRUA) (p.ex. queda libre).\n",
        "\n",
        "def Vmed(x0, x, t):\n",
        "  v = (x - x0)/t\n",
        "  print(\"A velocidade media é {} m/s.\".format(v))\n",
        "\n",
        "def QuedaLivre(a, t):\n",
        "  v = a*t #v0 = 0\n",
        "  print(\"A velocidade final da particula é {} m/s.\".format(v))\n",
        "\n",
        "Vmed(0, 10, 2)\n",
        "QuedaLivre(9.8, 5)"
      ],
      "execution_count": 6,
      "outputs": [
        {
          "output_type": "stream",
          "text": [
            "A velocidade media é 5.0 m/s.\n",
            "A velocidade final da particula é 49.0 m/s.\n"
          ],
          "name": "stdout"
        }
      ]
    },
    {
      "cell_type": "code",
      "metadata": {
        "id": "AeKwRRuBRGmP",
        "outputId": "f57e37d2-6a90-4e6a-a170-fb79b14bde15",
        "colab": {
          "base_uri": "https://localhost:8080/",
          "height": 68
        }
      },
      "source": [
        "# 3) Crie uma funcão para calcular o ángulo zenital do sol (da semana passada) tomando como argumento as medidas da altura e o comprimento da sombra.\n",
        "import math\n",
        "\n",
        "def AngleZenit(co, ca):\n",
        "  theta = math.atan(co/ca)\n",
        "  Gtheta = math.degrees(theta)\n",
        "  print(\"O angulo zenital do sol é {} radianos ou {} graus.\".format(theta, Gtheta))\n",
        "\n",
        "sombra = float(input(\"Digite o tamanho da sombra: \"))  #cateto oposto\n",
        "poste = float(input(\"Digite o tamanho do poste: \"))    #cateto adjacente\n",
        "AngleZenit(sombra, poste)\n"
      ],
      "execution_count": 8,
      "outputs": [
        {
          "output_type": "stream",
          "text": [
            "Digite o tamanho da sombra: 50\n",
            "Digite o tamanho do poste: 500\n",
            "O angulo zenital do sol é 0.09966865249116204 radianos ou 5.710593137499643 graus.\n"
          ],
          "name": "stdout"
        }
      ]
    },
    {
      "cell_type": "code",
      "metadata": {
        "id": "42TbRPUfTsXZ",
        "outputId": "7430d6c8-6890-4188-d9f2-69d4f0b9b904",
        "colab": {
          "base_uri": "https://localhost:8080/",
          "height": 68
        }
      },
      "source": [
        "# 4) Crie uma função que faça a conversão de uma medida inicialmente em milhas para m, e outra para o inverso; uma de horas para segundos,\n",
        "#    e o inverso. Utilizeestas funções para resolver novamente o primeiro exercício da semana passada (da corrida). \n",
        "#    Se uma pessoa demora 30 minutos em 4 milhas, qual velocidade media em km/h ? e o tempo medio por kilometro?\n",
        "\n",
        "def MetroKm(metro):\n",
        "  km = 1000*metro\n",
        "  return km\n",
        "def MilhaMetro(milha):\n",
        "  metro = milha/1609.344\n",
        "  return metro\n",
        "def MetroMilha(metro):\n",
        "  milha = 1609.344*metro\n",
        "  return milha\n",
        "def HoraSeg(hora):\n",
        "  segundo = hora*3600\n",
        "  return segundo\n",
        "def SegHora(segundo):\n",
        "  hora = segundo/3600\n",
        "  return hora\n",
        "t = 30*60 #de minuto pra segundo\n",
        "s = 4 #milhas\n",
        "v = MetroKm(MilhaMetro(s))/SegHora(t) #Km/hora\n",
        "\n",
        "print(\"A velocidade media é de {} km/h e o tempo medio por kilometro {} h/km\".format(v, 1/v))\n",
        "print(\"1 questão da 1 lista:(mi/h)\")\n",
        "t1 = 43.5   # minutos\n",
        "s1 = 16.1   # milhas\n",
        "v1 = s1/SegHora(t1*60) #milha/segundo\n",
        "print(\"A velocidade media é de {} mi/h e o tempo medio por milha {} h/mi\".format(v1, 1/v1))"
      ],
      "execution_count": 16,
      "outputs": [
        {
          "output_type": "stream",
          "text": [
            "A velocidade media é de 4.970969537898672 km/h e o tempo medio por kilometro 0.201168 h/km\n",
            "1 questão da 1 lista:(mi/h)\n",
            "A velocidade media é de 22.206896551724142 mi/h e o tempo medio por milha 0.045031055900621106 h/mi\n"
          ],
          "name": "stdout"
        }
      ]
    },
    {
      "cell_type": "code",
      "metadata": {
        "id": "AAQpfQtsesDG"
      },
      "source": [
        "# 5) Crie funções para calcular os outros exemplos das aulas anteriores: \n",
        "#    IMC, volume de uma esfera, distancia entre pontos de máximos de difração. Decida quais serão os argumentos e o valor retornado.\n",
        "import math\n",
        "def IMC(massa, altura):# massa em kg, altura em metros\n",
        "  imc = massa/altura**2\n",
        "  return imc\n",
        "def Vesfera(r):\n",
        "  v = math.pi*(4/3)*r**3\n",
        "  return v\n",
        "def DistMaxDifra(lamb, distancia):#(NM, M)\n",
        "  distancia_fenda = 0.250 / 10**3 #m\n",
        "  delta = ((lamb / 10**9) * distancia)/distancia_fenda\n",
        "  return delta\n"
      ],
      "execution_count": null,
      "outputs": []
    }
  ]
}