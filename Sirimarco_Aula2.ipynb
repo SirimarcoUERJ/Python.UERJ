{
  "nbformat": 4,
  "nbformat_minor": 0,
  "metadata": {
    "colab": {
      "name": "Sirimarco_Aula2.ipynb",
      "provenance": [],
      "authorship_tag": "ABX9TyO0bLibSaPPE4Nnmxxqnqth",
      "include_colab_link": true
    },
    "kernelspec": {
      "name": "python3",
      "display_name": "Python 3"
    }
  },
  "cells": [
    {
      "cell_type": "markdown",
      "metadata": {
        "id": "view-in-github",
        "colab_type": "text"
      },
      "source": [
        "<a href=\"https://colab.research.google.com/github/SirimarcoUERJ/Python.UERJ/blob/master/Sirimarco_Aula2.ipynb\" target=\"_parent\"><img src=\"https://colab.research.google.com/assets/colab-badge.svg\" alt=\"Open In Colab\"/></a>"
      ]
    },
    {
      "cell_type": "code",
      "metadata": {
        "id": "JwswQUre405t",
        "outputId": "2b00cfc3-ffc2-4d50-e6aa-0e82756eeed7",
        "colab": {
          "base_uri": "https://localhost:8080/",
          "height": 102
        }
      },
      "source": [
        "# 1)..\n",
        "largura = 17\n",
        "altura = 12.0\n",
        "delimitador = \".\"\n",
        "\n",
        "print(largura/2, \"é do tipo\", type(largura/2))\n",
        "print(largura/2.0, \"é do tipo\", type(largura/2.0))\n",
        "print(altura/3, \"é do tipo\", type(altura/3))\n",
        "print(1 + 2 * 5, \"é do tipo\", type(1 + 2 * 5))\n",
        "print(delimitador*5, \"é do tipo\", type(delimitador*5))"
      ],
      "execution_count": 2,
      "outputs": [
        {
          "output_type": "stream",
          "text": [
            "8.5 é do tipo <class 'float'>\n",
            "8.5 é do tipo <class 'float'>\n",
            "4.0 é do tipo <class 'float'>\n",
            "11 é do tipo <class 'int'>\n",
            "..... é do tipo <class 'str'>\n"
          ],
          "name": "stdout"
        }
      ]
    },
    {
      "cell_type": "code",
      "metadata": {
        "id": "pUuFETbE7VUB",
        "outputId": "ea324d20-ab64-4fcc-d31a-9dbc6d1c1f02",
        "colab": {
          "base_uri": "https://localhost:8080/",
          "height": 34
        }
      },
      "source": [
        "# 2)Qual é o volume de uma esfera de raio 5?\n",
        "import math\n",
        "r = 5\n",
        "v = math.pi*(4/3)*r**3\n",
        "print(\"O volume de uma esfera de raio 5 é {}.\".format(v))"
      ],
      "execution_count": 9,
      "outputs": [
        {
          "output_type": "stream",
          "text": [
            "O volume de uma esfera de raio 5 é 523.5987755982989.\n"
          ],
          "name": "stdout"
        }
      ]
    },
    {
      "cell_type": "code",
      "metadata": {
        "id": "wYcKGEOs8myZ",
        "outputId": "dd56d2a8-c418-4519-feb8-727126b04992",
        "colab": {
          "base_uri": "https://localhost:8080/",
          "height": 34
        }
      },
      "source": [
        "# 3)Suponha que o preço de um livro seja 24.95 reais, porém as livrarias têm desconto de 40%. Os custos de envio são de 3.00 reais \n",
        "# para o primeiro livro e 0.75 reais para os livros adicionais. Qual é o custo total da compra de 60 livros?\n",
        "preco = 24.95\n",
        "livros = 60\n",
        "C = (preco*livros)*0.4 + 0.75*(livros - 1) + 3 \n",
        "print(\"O custo de {} livros é de {} reais.\".format(livros,C))"
      ],
      "execution_count": 14,
      "outputs": [
        {
          "output_type": "stream",
          "text": [
            "O custo de 60 livros é de 646.0500000000001 reais.\n"
          ],
          "name": "stdout"
        }
      ]
    },
    {
      "cell_type": "code",
      "metadata": {
        "id": "PfPzna9-_ABm",
        "outputId": "0b14d1cd-582e-400f-ece4-4571bae42afb",
        "colab": {
          "base_uri": "https://localhost:8080/",
          "height": 34
        }
      },
      "source": [
        "# 4)Um laser vermelho (com comprimento de onda $\\lambda = 632.8$ nm) incide em uma fenda dupla produzindo um padrão de interferência com franjas \n",
        "# claras e escuras, em um anteparo situado a uma distância D = 1.98 m da fenda. Calcule a distância $\\Delta y$ entre dois máximos consecutivos de interferência.\n",
        "# Considere o espaçamento entre as fendas, $d$, como sendo igual a 0.250 mm. <em>Dica: a distância entre dois máximos de interferência consecutivos pode ser \n",
        "# aproximada por $\\Delta y = \\frac{\\lambda D}{d}$.\n",
        "\n",
        "lamb = 632.8 / 10**9 #m\n",
        "distancia = 1.98 #m\n",
        "distancia_fenda = 0.250 / 10**3 #m\n",
        "delta = (lamb * distancia)/distancia_fenda\n",
        "print(\"A distância entre dois máximos de interferência consecutivos é {} metros\".format(delta))"
      ],
      "execution_count": 18,
      "outputs": [
        {
          "output_type": "stream",
          "text": [
            "A distância entre dois máximos de interferência consecutivos é 0.005011776 metros\n"
          ],
          "name": "stdout"
        }
      ]
    }
  ]
}