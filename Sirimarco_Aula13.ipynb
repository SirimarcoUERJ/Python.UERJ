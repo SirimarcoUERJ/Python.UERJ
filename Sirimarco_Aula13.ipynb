{
  "nbformat": 4,
  "nbformat_minor": 0,
  "metadata": {
    "colab": {
      "name": "Sirimarco_Aula13.ipynb",
      "provenance": [],
      "authorship_tag": "ABX9TyOIk6dTr4Tx5L+ooEuORpSB",
      "include_colab_link": true
    },
    "kernelspec": {
      "name": "python3",
      "display_name": "Python 3"
    }
  },
  "cells": [
    {
      "cell_type": "markdown",
      "metadata": {
        "id": "view-in-github",
        "colab_type": "text"
      },
      "source": [
        "<a href=\"https://colab.research.google.com/github/SirimarcoUERJ/Python.UERJ/blob/master/Sirimarco_Aula13.ipynb\" target=\"_parent\"><img src=\"https://colab.research.google.com/assets/colab-badge.svg\" alt=\"Open In Colab\"/></a>"
      ]
    },
    {
      "cell_type": "code",
      "metadata": {
        "id": "ehvA-xNNMoP3"
      },
      "source": [
        "# Continuação de classes e objetos.\n",
        "\n",
        "# Aula\n",
        "\n",
        "class Point:\n",
        "    \"\"\" Cria um novo Ponto, com coordenadas x, y \"\"\"\n",
        "\n",
        "    def __init__(self, x=0, y=0):\n",
        "        \"\"\" Inicializa em x, y o novo ponto criado pela classe \"\"\"\n",
        "        self.x = x\n",
        "        self.y = y\n",
        "\n",
        "    def distancia_da_origem(self):\n",
        "        \"\"\" Calcula minha distânica da origem \"\"\"\n",
        "        return ((self.x ** 2) + (self.y ** 2)) ** 0.5\n",
        "    \n",
        "    def ponto_medio(self, alvo):\n",
        "        \"\"\" Retorna o ponto medio entre esse ponto e o alvo \"\"\"\n",
        "        mx = (self.x + alvo.x)/2\n",
        "        my = (self.y + alvo.y)/2\n",
        "        return Point(mx, my)\n",
        "    \n",
        "    def __str__(self):\n",
        "        return \"({}, {})\".format(self.x, self.y)\n",
        "\n",
        "# Exercicio\n",
        "    \n",
        "    def dist_2point(self, alvo):\n",
        "      \"\"\" calcula a distância entre dois pontos \"\"\"\n",
        "      dx = (self.x - alvo.x)\n",
        "      dy = (self.y - alvo.y)\n",
        "      return((dx*dx) + (dy*dy))**(0.5)\n",
        "    \n",
        "    def reflexao_x(self):\n",
        "      \"\"\" retorna uma instância de Ponto, que é o reflexo do Ponto sobre o eixo x \"\"\"\n",
        "      return (self.x, -self.y)\n",
        "\n",
        "    def inclinacao_da_origem(self):\n",
        "      \"\"\" retorne a inclinação da linha que une a origem ao Ponto \"\"\"\n",
        "      print(\"Esse metodo falha quando x = 0 pois a inclinação é infinita.\")\n",
        "      if self.x != 0:\n",
        "        return (self.y/self.x)\n",
        "      else:\n",
        "        if self.y > 0:\n",
        "          return float(\"inf\")\n",
        "        else:\n",
        "          return float(\"-inf\")\n",
        "\n",
        "    def parametros_reta(self,alvo):\n",
        "      \"\"\" retornar os dois coeficientes como uma tupla de dois valores \"\"\"\n",
        "      # y = a*x + b\n",
        "      print(\"Esse metodo falha quando os valores de x são iguais pois a inclinação é infinita.\")\n",
        "      if (self.x - alvo.x) != 0:\n",
        "        a = (self.y - alvo.y)/(self.x - alvo.x)\n",
        "        b = self.y - a * self.x\n",
        "        return (a, b)\n",
        "      else:\n",
        "        print(\"Eq: x = {}\".format(self.x))\n"
      ],
      "execution_count": 50,
      "outputs": []
    },
    {
      "cell_type": "code",
      "metadata": {
        "colab": {
          "base_uri": "https://localhost:8080/"
        },
        "id": "6kUZzSVkMNzx",
        "outputId": "7634667e-903d-4a58-983e-af1d46f0788e"
      },
      "source": [
        "# 5 - Usando a classe Ponto criada na última aula escreva uma classe Retangulo. A definição da classe Retangulo é: Dica: use o método criado no exercício 1.\n",
        "\n",
        "class Rectangle:\n",
        "  \"\"\"\n",
        "    Representa um retangulo. \n",
        "\n",
        "    atributos: \n",
        "    - largura, do tipo float\n",
        "    - altura, do tipo float \n",
        "    - canto, do tipo Ponto.\n",
        "  \"\"\"\n",
        "  def __init__(self, aresta=Point(0,0), largura=1, altura=1):\n",
        "    self.largura = largura\n",
        "    self.altura = altura\n",
        "    self.canto = aresta\n",
        "    \n",
        "  def __str__(self):\n",
        "    return (\"{},{},{},{}\".format(self.canto, (self.canto.x, self.canto.y + self.altura), (self.canto.x + self.largura, self.canto.y + self.altura), (self.canto.x + self.largura, self.canto.y)))\n",
        "\n",
        "r = Rectangle(Point(1,1),1,1)\n",
        "\n",
        "print(r)\n",
        "r\n"
      ],
      "execution_count": 60,
      "outputs": [
        {
          "output_type": "stream",
          "text": [
            "(1, 1),(1, 2),(2, 2),(2, 1)\n"
          ],
          "name": "stdout"
        },
        {
          "output_type": "execute_result",
          "data": {
            "text/plain": [
              "<__main__.Rectangle at 0x7f6b12068e48>"
            ]
          },
          "metadata": {
            "tags": []
          },
          "execution_count": 60
        }
      ]
    },
    {
      "cell_type": "code",
      "metadata": {
        "colab": {
          "base_uri": "https://localhost:8080/"
        },
        "id": "NVIS2M8oM2uB",
        "outputId": "d749183f-3d1c-4659-ab9f-32448e2a3f4e"
      },
      "source": [
        "# 6 - Escreva uma definição para uma classe chamada Circulo com atributos centro e raio, em que centro é um objeto do tipo Ponto e raio é um número.\n",
        "\n",
        "#   Instancie um objeto Circulo que represente um círculo com seu centro em (150, 100) e raio 75 e imprima na tela as coordenadas (x,y) do centro do círculo.\n",
        "#   Escreva uma função chamada ponto_no_circulo que use um Circulo e um Ponto e retorne True se o Ponto estiver dentro do círculo ou no limite do mesmo.\n",
        "\n",
        "class Circulo:\n",
        "\n",
        "  def __init__(self, centro=Point(0,0), raio=1):\n",
        "    self.raio = raio\n",
        "    self.centro = centro\n",
        "\n",
        "  def __str__(self):\n",
        "    return(\"{},{}\".format(self.centro, self.raio))\n",
        "\n",
        "c = Circulo((1,1), 3)\n",
        "print(c)\n",
        "c\n"
      ],
      "execution_count": 61,
      "outputs": [
        {
          "output_type": "stream",
          "text": [
            "(1, 1),3\n"
          ],
          "name": "stdout"
        },
        {
          "output_type": "execute_result",
          "data": {
            "text/plain": [
              "<__main__.Circulo at 0x7f6b1200eb38>"
            ]
          },
          "metadata": {
            "tags": []
          },
          "execution_count": 61
        }
      ]
    },
    {
      "cell_type": "code",
      "metadata": {
        "id": "5aikCU3oNBJi"
      },
      "source": [
        "# 7 -  Escreva uma função chamada desenhar_ret que use um objeto Turtle e um Retangulo e use o Turtle para desenhar o retângulo.\n",
        "import turtle\n",
        "\n",
        "def desenha_ret(turt,ret):\n",
        "\tturt.shape(\"blank\")\n",
        "\tturt.penup()\n",
        "\tturt.goto(ret.canto)\n",
        "\tturt.pendown()\n",
        "\tfor i in range(2):\n",
        "\t\tturt.forward(ret.largura)\n",
        "\t\tturt.left(90)\n",
        "\t\tturt.forward(ret.altura)\n",
        "\t\tturt.left(90)\n",
        "\t\n",
        "tartaruga = turtle.Turtle()\n",
        "sw = turtle.Screen()\n",
        "desenha_ret(tartaruga, Rectangle((0,0), 100, 50))\n",
        "sw.mainloop()\n",
        "  "
      ],
      "execution_count": null,
      "outputs": []
    },
    {
      "cell_type": "code",
      "metadata": {
        "id": "NmgTKXvJNBUX"
      },
      "source": [
        "# 8 - Escreva uma função chamada desenhar_circulo que use uma Turtle e um Circulo e desenhe o Circulo.\n",
        "\n",
        "def desenhar_circulo(turt,circ):\n",
        "\tperi = 2*math.pi*circ.raio\n",
        "\tturt.speed(0)\n",
        "\tturt.shape(\"blank\")\n",
        "\tturt.penup()\n",
        "\tturt.goto(circ.centro)\n",
        "\tturt.forward(circ.raio)\n",
        "\tturt.left(90)\n",
        "\tturt.pendown()\n",
        "\tfor i in range(360):\n",
        "\t\tturt.forward(peri/360)\n",
        "\t\tturt.left(1)\n",
        "\t\n",
        "tartaruga = turtle.Turtle()\n",
        "sw = turtle.Screen()\n",
        "desenhar_circulo(tartaruga, Circulo((100,0),100))\n",
        "sw.mainloop()"
      ],
      "execution_count": null,
      "outputs": []
    }
  ]
}