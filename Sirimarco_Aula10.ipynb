{
  "nbformat": 4,
  "nbformat_minor": 0,
  "metadata": {
    "colab": {
      "name": "Sirimarco_Aula10.ipynb",
      "provenance": [],
      "authorship_tag": "ABX9TyP+dDUvuvNRMjqtZwoYKII2",
      "include_colab_link": true
    },
    "kernelspec": {
      "name": "python3",
      "display_name": "Python 3"
    }
  },
  "cells": [
    {
      "cell_type": "markdown",
      "metadata": {
        "id": "view-in-github",
        "colab_type": "text"
      },
      "source": [
        "<a href=\"https://colab.research.google.com/github/SirimarcoUERJ/Python.UERJ/blob/master/Sirimarco_Aula10.ipynb\" target=\"_parent\"><img src=\"https://colab.research.google.com/assets/colab-badge.svg\" alt=\"Open In Colab\"/></a>"
      ]
    },
    {
      "cell_type": "code",
      "metadata": {
        "colab": {
          "base_uri": "https://localhost:8080/"
        },
        "id": "1Arwb0gDrDzE",
        "outputId": "3f77dd2b-256e-43d5-837e-84d3d773a31a"
      },
      "source": [
        "# 1 - Quantos intervalos (ou qual largura de intervalo) é preciso implementar para ter uma precisão de 1% no resultado numérico na integração de $f(x)$ de 0 a 10?\n",
        "#   $\\dfrac{R_{num}-R_{an}}{R_{an}} \\leq 10\\% $\n",
        "\n",
        "import numpy as np\n",
        "\n",
        "dx = 1\n",
        "Ran = np.exp(0) - np.exp(-10)\n",
        "s = True\n",
        "while(s):\n",
        "  soma = 0\n",
        "  x = np.arange(0, 10, dx)\n",
        "  for xi in x:\n",
        "    soma = soma + np.exp(-xi)*dx\n",
        "  dx -= 0.001\n",
        "  if (((soma - Ran )/Ran) <= 0.01):\n",
        "    print(\"Deu certo para dx = {}\".format(dx))\n",
        "    #print(soma, Ran)\n",
        "    break\n",
        "\n"
      ],
      "execution_count": null,
      "outputs": [
        {
          "output_type": "stream",
          "text": [
            "Deu certo para dx = 0.017999999999999128\n"
          ],
          "name": "stdout"
        }
      ]
    },
    {
      "cell_type": "code",
      "metadata": {
        "colab": {
          "base_uri": "https://localhost:8080/"
        },
        "id": "Kk58aUvV6qWU",
        "outputId": "fa4d8c65-b55b-42b5-a124-1c50038fe6e6"
      },
      "source": [
        "# 2 - Faça a integração numérica pela esquerda da mesma função. Compare o resultado com a integração pela direita.\n",
        "import numpy as np\n",
        "\n",
        "dx = 0.017999999999999128\n",
        "Ran = np.exp(0) - np.exp(-10)\n",
        "somae = 0\n",
        "x = np.arange(10, 0, -dx)\n",
        "for xi in x:\n",
        "  somae = somae + np.exp(-xi)*dx\n",
        "print(\"integral pelas esquerda {} e integral pela direita {}.\".format(somae, soma))"
      ],
      "execution_count": null,
      "outputs": [
        {
          "output_type": "stream",
          "text": [
            "integral pelas esquerda 0.9989420208972924 e integral pela direita 1.0094848425250729.\n"
          ],
          "name": "stdout"
        }
      ]
    },
    {
      "cell_type": "code",
      "metadata": {
        "id": "wmXirRYu3ztQ",
        "colab": {
          "base_uri": "https://localhost:8080/"
        },
        "outputId": "0491fb2f-958a-4e42-b44e-76a14ab33703"
      },
      "source": [
        "# 3 - Faça a integração por trapézios. Lembre que a área de um trapézio é dada por: $A=\\frac{(a + b)h}{2}$\n",
        "\n",
        "import numpy as np\n",
        "xi = 0\n",
        "xf = 10\n",
        "dx = 0.1\n",
        "int_num = 0\n",
        "\n",
        "x = np.arange(xi, xf, dx)\n",
        "\n",
        "for xj in x:\n",
        "  x0 = xj\n",
        "  x1 = x0 + dx\n",
        "  int_num += ((np.exp(-x0) + np.exp(-x1))*dx/2)\n",
        "\n",
        "print(\"integral por trapezios {} e integral analitica {}.\".format(int_num, Ran))"
      ],
      "execution_count": null,
      "outputs": [
        {
          "output_type": "stream",
          "text": [
            "integral por trapezios 1.000787756720772 e integral analitica 0.9999546000702375.\n"
          ],
          "name": "stdout"
        }
      ]
    },
    {
      "cell_type": "code",
      "metadata": {
        "id": "QyFUOODj60pk",
        "colab": {
          "base_uri": "https://localhost:8080/",
          "height": 34
        },
        "outputId": "153451a6-619a-4554-ff71-2efe2e5a8f29"
      },
      "source": [
        "# 4 - Faça a integração numérica das funções trigonométricas $\\sin(x)$ e $\\cos(x)$ num período $0 &lt; x \\leq 2\\pi$\n",
        "import numpy as np\n",
        "\n",
        "def calc_int_sencos(f ,xi=0 ,xf=2*np.pi ,dx=0.01 ):\n",
        "  integral = 0\n",
        "  x = np.arange(xi, xf, dx)\n",
        "  for xj in x:\n",
        "    x0 = xj\n",
        "    x1 = x0 + dx\n",
        "    integral += ((f(x0) + f(x1))*dx/2)\n",
        "  return \"Integral da {} de {:.2f} até {:.2f} é {:.2f}\".format(f, xi, xf, integral)\n",
        "calc_int_sencos(np.sin,0 , 2*np.pi)"
      ],
      "execution_count": null,
      "outputs": [
        {
          "output_type": "execute_result",
          "data": {
            "application/vnd.google.colaboratory.intrinsic+json": {
              "type": "string"
            },
            "text/plain": [
              "\"Integral da <ufunc 'sin'> de 0.00 até 6.28 é 0.00\""
            ]
          },
          "metadata": {
            "tags": []
          },
          "execution_count": 25
        }
      ]
    },
    {
      "cell_type": "code",
      "metadata": {
        "id": "FPPAyehF664B",
        "colab": {
          "base_uri": "https://localhost:8080/"
        },
        "outputId": "8712e003-757c-4e2c-efa4-2c23591c2e50"
      },
      "source": [
        "# 5 - Faça a integração das funções hiperbólicas $\\sinh(x)$ e $\\cosh(x)$ no intervalo $0-10$.\n",
        "\n",
        "print(calc_int_sencos(np.sinh, 0, 10))\n",
        "print(calc_int_sencos(np.cosh, 0, 10))"
      ],
      "execution_count": null,
      "outputs": [
        {
          "output_type": "stream",
          "text": [
            "Integral da <ufunc 'sinh'> de 0.00 até 10.00 é 11012.32\n",
            "Integral da <ufunc 'cosh'> de 0.00 até 10.00 é 11013.32\n"
          ],
          "name": "stdout"
        }
      ]
    },
    {
      "cell_type": "code",
      "metadata": {
        "id": "OQdrQokALINS"
      },
      "source": [
        "# Continuação"
      ],
      "execution_count": null,
      "outputs": []
    },
    {
      "cell_type": "code",
      "metadata": {
        "id": "Mnlgtd76LLp6"
      },
      "source": [
        ""
      ],
      "execution_count": null,
      "outputs": []
    }
  ]
}