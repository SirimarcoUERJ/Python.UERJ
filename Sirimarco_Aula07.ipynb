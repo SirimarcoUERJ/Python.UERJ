{
  "nbformat": 4,
  "nbformat_minor": 0,
  "metadata": {
    "colab": {
      "name": "Sirimarco_Aula7.ipynb",
      "provenance": [],
      "authorship_tag": "ABX9TyP/slyioUXUMcnvAfYRHAQH",
      "include_colab_link": true
    },
    "kernelspec": {
      "name": "python3",
      "display_name": "Python 3"
    }
  },
  "cells": [
    {
      "cell_type": "markdown",
      "metadata": {
        "id": "view-in-github",
        "colab_type": "text"
      },
      "source": [
        "<a href=\"https://colab.research.google.com/github/SirimarcoUERJ/Python.UERJ/blob/master/Sirimarco_Aula7.ipynb\" target=\"_parent\"><img src=\"https://colab.research.google.com/assets/colab-badge.svg\" alt=\"Open In Colab\"/></a>"
      ]
    },
    {
      "cell_type": "code",
      "metadata": {
        "id": "Q_GIBNhDn-ws",
        "outputId": "019f40d8-af10-47a1-8762-c520023c0a3a",
        "colab": {
          "base_uri": "https://localhost:8080/"
        }
      },
      "source": [
        "# 1 - A conjectura de Collatz, diz que \"Todos os inteiros positivos irão eventualmente convergir para 1 \n",
        "#\t   usando as regras do Collatz\". Faça um programa que verifique a conjectura de Collatz para alguns valores. \n",
        "#  \t As regras de Collatz são: Dado um número n:\n",
        "#\n",
        "#\t  \tse n for par, divida-o por 2;\n",
        "#\t\t  Se n for ímpar, atualize-o para 3*n + 1\n",
        "\n",
        "def Collatz(n):\n",
        "\tcont_Coll = 0\n",
        "\tk = n\n",
        "\twhile (n != 1):\n",
        "\t\tcont_Coll += 1\n",
        "\t\tif (n % 2) == 0:\n",
        "\t\t\tn = n / 2\n",
        "\t\telse:\n",
        "\t\t\tn = 3*n + 1\n",
        "\tprint(\"Apos utilizar a conjectura de Collatz {} vezes {} virou 1.\".format(cont_Coll, k))\n",
        "\n",
        "\n",
        "Collatz(6)\n"
      ],
      "execution_count": null,
      "outputs": [
        {
          "output_type": "stream",
          "text": [
            "Apos utilizar a conjectura de Collatz 8 vezes 6 virou 1.\n"
          ],
          "name": "stdout"
        }
      ]
    },
    {
      "cell_type": "code",
      "metadata": {
        "id": "S9Gto4PNuMSN",
        "outputId": "5fd032b6-f4f4-49e9-f2c3-ee32cab8f0d8",
        "colab": {
          "base_uri": "https://localhost:8080/"
        }
      },
      "source": [
        "# 2 - Modifique a função counter para contar o número de vezes que os dígitos 0 e 5 aparecem em um dado número n.\n",
        "#    Por exemplo, n = 10568, tem 2 dígitos 0 ou 5.\n",
        "'''\n",
        "def counter(n):\n",
        "    count = 0\n",
        "    while n!=0:\n",
        "        count = count + 1\n",
        "        n = n // 10         # divisão de inteiros\n",
        "    return count\n",
        "'''\n",
        "def new_counter(n):\n",
        "  count = 0\n",
        "  while n!=0:\n",
        "    if ((n % 10) == 0 or (n % 10) == 5):\n",
        "      count = count + 1\n",
        "    n = n // 10         # divisão de inteiros \n",
        "  return count\n",
        "new_counter(5040135013250137403)"
      ],
      "execution_count": null,
      "outputs": [
        {
          "output_type": "execute_result",
          "data": {
            "text/plain": [
              "8"
            ]
          },
          "metadata": {
            "tags": []
          },
          "execution_count": 7
        }
      ]
    },
    {
      "cell_type": "code",
      "metadata": {
        "id": "Rl1D4Z_9vHdK",
        "outputId": "871b4e54-f4a9-4dc5-8996-3ad8b756e05a",
        "colab": {
          "base_uri": "https://localhost:8080/"
        }
      },
      "source": [
        "# 3 - Encapsule e generalize a seguinte declaração:\n",
        "'''\n",
        "for i in [12, 16, 17, 24, 29]:\n",
        "    if i % 2 == 1:  # If the number is odd\n",
        "       break        #  ... immediately exit the loop\n",
        "    print(i)\n",
        "print(\"done\")\n",
        "'''\n",
        "def even_odd(n):\n",
        "  even_odd_list = []\n",
        "  if n % 2 == 0:\n",
        "    even_odd_list.append(\"even\")\n",
        "  else:\n",
        "    even_odd_list.append(\"odd\")\n",
        "  print(n)\n",
        "  print(even_odd_list)\n",
        "\n",
        "even_odd(564)"
      ],
      "execution_count": null,
      "outputs": [
        {
          "output_type": "stream",
          "text": [
            "564\n",
            "['even']\n"
          ],
          "name": "stdout"
        }
      ]
    },
    {
      "cell_type": "code",
      "metadata": {
        "id": "ZnpDPhUMyO-Q",
        "outputId": "03d484db-d1f5-421a-f657-8f872609cb17",
        "colab": {
          "base_uri": "https://localhost:8080/"
        }
      },
      "source": [
        "#4 - O método de Newton para raiz quadrada. Suponha que você queira calcular a raiz quadrada de n. Se você começar com quase qualquer aproximação,\n",
        "#   poderá calcular uma aproximação melhor (mais próxima da resposta real) com a seguinte fórmula: melhor = (approx + n/approx)/2\n",
        "\n",
        "#   Usando um loop e repetindo esta fórmula até que a melhor aproximação se aproxime o suficiente da anterior (podemos considerar uma diferença de 0,001),\n",
        "#   podemos escrever uma função para calcular a raiz quadrada.\n",
        "\n",
        "def newton_sqr(sqr):\n",
        "  tol = 0.001\n",
        "  approx = 1    #um chute aleatorio padrão, pra eliminar um argumento da função.\n",
        "  melhor = (approx + sqr/approx)/2\n",
        "  while (abs(melhor - approx) > 0.001):\n",
        "    approx = melhor\n",
        "    melhor = (approx + sqr/approx)/2\n",
        "  print(\"A raiz de {} pelo método de Newton pode ser aproximada por {}.\".format(sqr,melhor))\n",
        "newton_sqr()"
      ],
      "execution_count": null,
      "outputs": [
        {
          "output_type": "stream",
          "text": [
            "A raiz de 100 pelo método de Newton pode ser aproximada por 10.000000000139897.\n"
          ],
          "name": "stdout"
        }
      ]
    },
    {
      "cell_type": "code",
      "metadata": {
        "id": "ex3TCGVGxFgf"
      },
      "source": [
        "#Segunda parte !!!"
      ],
      "execution_count": null,
      "outputs": []
    },
    {
      "cell_type": "code",
      "metadata": {
        "id": "f2LtTlHq-j8k",
        "outputId": "02577626-f1b9-4097-eb15-42fface68a61",
        "colab": {
          "base_uri": "https://localhost:8080/"
        }
      },
      "source": [
        "# 1 - Escreva um script que leia a hora atual e a converta em um tempo em horas, minutos e segundos, mais o número de dias desde a época.\n",
        "import time\n",
        "sec = time.time()\n",
        "day = (sec / (60*60*24))\n",
        "hours = (sec % (60*60*24))/(60*60)\n",
        "fuso_br = hours - 3\n",
        "minutes = (sec % (60*60*24) % (60*60))/60\n",
        "sec_today =(sec % (60*60*24) % (60*60) % 60) \n",
        "print(\"Desde a 'Época' ja se passaram {} dias, {} horas , {} minutos e {} segundos no Horario de Brasilia.\".format(int(day), int(fuso_br), int(minutes), int(sec_today)))"
      ],
      "execution_count": null,
      "outputs": [
        {
          "output_type": "stream",
          "text": [
            "Desde a 'Época' ja se passaram 18572 dias, 15 horas , 10 minutos e 29 segundos no Horario de Brasilia.\n"
          ],
          "name": "stdout"
        }
      ]
    },
    {
      "cell_type": "code",
      "metadata": {
        "id": "vO_VDaDDwJ9j",
        "outputId": "25471769-cc6a-4309-e91f-5b9af86a4d38",
        "colab": {
          "base_uri": "https://localhost:8080/"
        }
      },
      "source": [
        "#2 - O último teorema de Fermat diz que não existem números inteiros a, b e c tais que a**n + b**n == c**n para quaisquer valores de n maiores que 2.\n",
        "#   2.1 -Escreva uma função chamada check_fermat que receba quatro parâmetros – a, b, c e n – e verifique se o teorema de Fermat se mantém. \n",
        "#   Se n for maior que 2 e a**n + b**n == c**n o programa deve imprimir, “Holy smokes, Fermat was wrong!” Senão o programa deve exibir “No, that doesn’t work.”\n",
        "\n",
        "def check_fermat(a, b, c, n):\n",
        "  if (n <= 2):\n",
        "    print(\"4° parameter must be greater than '2'.\")\n",
        "  else:\n",
        "    if ((a**n + b**n == c**n) and (n > 2)):\n",
        "      print(\"Holy smokes, Fermat was wrong!\")\n",
        "    else:\n",
        "      print(\"No, that doesn’t work.\")\n",
        "check_fermat(3, 4, 5, 3)"
      ],
      "execution_count": null,
      "outputs": [
        {
          "output_type": "stream",
          "text": [
            "No, that doesn’t work.\n"
          ],
          "name": "stdout"
        }
      ]
    },
    {
      "cell_type": "code",
      "metadata": {
        "id": "L6zR9Qo4zZb_",
        "outputId": "f2315661-c380-4b85-80de-f91304e93b32",
        "colab": {
          "base_uri": "https://localhost:8080/"
        }
      },
      "source": [
        "#2 - O último teorema de Fermat diz que não existem números inteiros a, b e c tais que a**n + b**n == c**n para quaisquer valores de n maiores que 2.\n",
        "#   2.2 - Escreva uma função que peça ao usuário para digitar valores para a, b, c e n, os converta em números inteiros e use check_fermat para verificar \n",
        "#     se violam o teorema de Fermat.\n",
        "\n",
        "def check_fermat(a, b, c, n):\n",
        "  if (n <= 2):\n",
        "    print(\"4° parameter must be greater than '2'.\")\n",
        "  else:\n",
        "    if ((a**n + b**n == c**n) and (n > 2)):\n",
        "      print(\"Holy smokes, Fermat was wrong!\")\n",
        "    else:\n",
        "      print(\"No, that doesn’t work.\")\n",
        "def check_int ():\n",
        "  a = float(input(\"Write four numbers!\\n\"))\n",
        "  b = float(input(\"\"))\n",
        "  c = float(input(\"\"))\n",
        "  n = float(input(\"\"))\n",
        "  check_fermat(a//1 ,b//1 , c//1, n//1)\n",
        "check_int()"
      ],
      "execution_count": null,
      "outputs": [
        {
          "output_type": "stream",
          "text": [
            "Write four numbers!\n",
            "5.5\n",
            "5\n",
            "5\n",
            "5\n",
            "No, that doesn’t work.\n"
          ],
          "name": "stdout"
        }
      ]
    },
    {
      "cell_type": "code",
      "metadata": {
        "id": "zUDTlnxSEHWZ",
        "outputId": "595625c5-6d01-49d5-aecd-0d1b7e3bd616",
        "colab": {
          "base_uri": "https://localhost:8080/"
        }
      },
      "source": [
        "#3 - Há um teste simples para ver se é possível formar um triângulo para quaisquer três comprimentos: Se algum dos três comprimentos for maior que a soma\n",
        "#   dos outros dois, então você não pode formar um triângulo. Senão, você pode. (Se a soma de dois comprimentos igualar o terceiro, eles formam um triângulo\n",
        "#   chamado “degenerado”.)\n",
        "\n",
        "# 3.1 - Escreva uma função chamada is_triangle que receba três números inteiros como argumentos, e que imprima “Yes” ou “No”, dependendo da possibilidade de \n",
        "#      formar ou não um triângulo de gravetos com os comprimentos dados.\n",
        "\n",
        "def is_triangle(a ,b, c):\n",
        "  bigger = 0\n",
        "  if(a >= bigger):\n",
        "    bigger = a\n",
        "  if(b >= bigger):\n",
        "    bigger = b\n",
        "  if(c >= bigger):\n",
        "    bigger = c \n",
        "  if (bigger == (a + b + c) - bigger):\n",
        "    print(\"eles formam um triângulo chamado 'degenerado'.\")\n",
        "  elif(bigger < (a + b + c) - bigger):\n",
        "    print(\"Eles foram um triangulo.\")\n",
        "  else:\n",
        "    print(\"Eles n formam um triangulo.\")\n",
        "is_triangle(3 ,3 ,3)"
      ],
      "execution_count": null,
      "outputs": [
        {
          "output_type": "stream",
          "text": [
            "Eles foram um triangulo.\n"
          ],
          "name": "stdout"
        }
      ]
    },
    {
      "cell_type": "code",
      "metadata": {
        "id": "Y0L_MM--EbPh",
        "outputId": "8826b90c-efa3-4da6-ce22-7de1a4b64b92",
        "colab": {
          "base_uri": "https://localhost:8080/"
        }
      },
      "source": [
        "#3.2 - Escreva uma função que peça ao usuário para digitar três comprimentos de gravetos, os converta em números inteiros e use is_triangle \n",
        "#     para verificar se os gravetos com os comprimentos dados podem formar um triângulo.\n",
        "import turtle\n",
        "\n",
        "def check_integer ():\n",
        "  a = float(input(\"Write four integer numbers!\\n\"))\n",
        "  b = float(input(\"\"))\n",
        "  c = float(input(\"\"))\n",
        "\n",
        "  is_triangle(a//1, b//1, c//1)\n",
        "check_integer()"
      ],
      "execution_count": null,
      "outputs": [
        {
          "output_type": "stream",
          "text": [
            "Write four integer numbers!\n",
            "4\n",
            "5\n",
            "6\n",
            "Eles foram um triangulo.\n"
          ],
          "name": "stdout"
        }
      ]
    },
    {
      "cell_type": "code",
      "metadata": {
        "id": "jevfWrE4Gq6y"
      },
      "source": [
        "#5.1 - Escreva uma função chamada koch que receba um ColabTurtle (ou turtle) e um comprimento como parâmetros, \n",
        "#   e use o ColabTurtle para desenhar uma curva de Koch com o comprimento dado.\n",
        "import turtle\n",
        "\n",
        "def koch (turt, size):\n",
        "\tif size < 3:\n",
        "\t\tturt.forward(size)\n",
        "\t\treturn\n",
        "\tkoch(turt, size/3)\n",
        "\tturt.left(60)\n",
        "\tkoch(turt, size/3)\n",
        "\tturt.right(120)\n",
        "\tkoch(turt, size/3)\n",
        "\tturt.left(60)\n",
        "\tkoch(turt, size/3)\n",
        "\t\n",
        "tartaruga = turtle.Turtle()\n",
        "tartaruga.shape(\"blank\")\n",
        "tartaruga.speed(0)\n",
        "'''\n",
        "tartaruga.penup()\n",
        "tartaruga.goto(-500,0)\n",
        "tartaruga.pendown()\n",
        "'''\n",
        "\n",
        "janela = turtle.Screen()\n",
        "janela.title(\"Curva de Von Koch\")\n",
        "\n",
        "koch(tartaruga,250)\n",
        "\n",
        "janela.mainloop()"
      ],
      "execution_count": null,
      "outputs": []
    },
    {
      "cell_type": "code",
      "metadata": {
        "id": "ReWUKDFTnwHI"
      },
      "source": [
        "#5.2 - Escreva uma função chamada snowflake que desenhe três curvas de Koch para fazer o traçado de um floco de neve.\n",
        "\n",
        "import turtle\n",
        "\n",
        "def koch (turt, size):\n",
        "\tif size < 3:\n",
        "\t\tturt.forward(size)\n",
        "\t\treturn\n",
        "\tkoch(turt, size/3)\n",
        "\tturt.left(60)\n",
        "\tkoch(turt, size/3)\n",
        "\tturt.right(120)\n",
        "\tkoch(turt, size/3)\n",
        "\tturt.left(60)\n",
        "\tkoch(turt, size/3)\n",
        "\n",
        "def snowflake(turt, size):\n",
        "\tkoch (turt, size)\n",
        "\tturt.right(120)\n",
        "\tkoch (turt, size)\n",
        "\tturt.right(120)\n",
        "\tkoch (turt, size)\n",
        "\n",
        "tartaruga = turtle.Turtle()\n",
        "tartaruga.shape(\"blank\")\n",
        "tartaruga.speed(0)\n",
        "\n",
        "tartaruga.penup()\n",
        "tartaruga.goto(-150,0)\n",
        "tartaruga.pendown()\n",
        "\n",
        "\n",
        "janela = turtle.Screen()\n",
        "janela.title(\"Curva de Von Koch\")\n",
        "\n",
        "snowflake(tartaruga,800)\n",
        "\n",
        "janela.mainloop()"
      ],
      "execution_count": null,
      "outputs": []
    },
    {
      "cell_type": "code",
      "metadata": {
        "id": "wqgHZsxULLis"
      },
      "source": [
        "#5.3 - A curva de Koch pode ser generalizada de vários modos. Veja exemplos em http://en.wikipedia.org/wiki/Koch_snowflake e implemente o seu favorito.\n",
        "\n",
        "import turtle\n",
        "\n",
        "def minkowski(turt, size):\n",
        "\tif size < 3:\n",
        "\t\tturt.forward(size)\n",
        "\t\treturn\n",
        "\tminkowski(turt, size/4)\n",
        "\tturt.left(90)\n",
        "\tminkowski(turt, size/4)\n",
        "\tturt.right(90)\n",
        "\tminkowski(turt, size/4)\n",
        "\tturt.right(90)\n",
        "\tminkowski(turt, size/4)\n",
        "\tminkowski(turt, size/4)\n",
        "\tturt.left(90)\n",
        "\tminkowski(turt, size/4)\n",
        "\tturt.left(90)\n",
        "\tminkowski(turt, size/4)\n",
        "\tturt.right(90)\n",
        "\tminkowski(turt, size/4)\n",
        "\n",
        "def polygon_minkowski (lados, size):\n",
        "\ttartaruga = turtle.Turtle()\n",
        "\ttartaruga.shape(\"blank\")\n",
        "\ttartaruga.speed(0)\n",
        "\tfor i in range(lados):\n",
        "\t\tminkowski(tartaruga, size)\n",
        "\t\ttartaruga.right(360/lados)\n",
        "\n",
        "janela = turtle.Screen()\n",
        "janela.title(\"Curva de Minkowski\")\n",
        "\n",
        "polygon_minkowski(4, 100)\n",
        "\n",
        "janela.mainloop()"
      ],
      "execution_count": null,
      "outputs": []
    }
  ]
}
