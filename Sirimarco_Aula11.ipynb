{
  "nbformat": 4,
  "nbformat_minor": 0,
  "metadata": {
    "colab": {
      "name": "Sirimarco_Aula11.ipynb",
      "provenance": [],
      "authorship_tag": "ABX9TyOGxa7JZ/Bu7022GVZZVPw1",
      "include_colab_link": true
    },
    "kernelspec": {
      "name": "python3",
      "display_name": "Python 3"
    }
  },
  "cells": [
    {
      "cell_type": "markdown",
      "metadata": {
        "id": "view-in-github",
        "colab_type": "text"
      },
      "source": [
        "<a href=\"https://colab.research.google.com/github/SirimarcoUERJ/Python.UERJ/blob/master/Sirimarco_Aula11.ipynb\" target=\"_parent\"><img src=\"https://colab.research.google.com/assets/colab-badge.svg\" alt=\"Open In Colab\"/></a>"
      ]
    },
    {
      "cell_type": "code",
      "metadata": {
        "id": "qSroDoeB72WU",
        "colab": {
          "base_uri": "https://localhost:8080/"
        },
        "outputId": "05adb478-351b-4473-973a-82703aa2a08e"
      },
      "source": [
        "# 1 - Utilizando dicionários e o método get, contrua a seguinte matriz em python e acesse os valores de índices (0,3), (2,1), (4,3) e (2,2).matrix\n",
        "\n",
        "matrix = {(0, 3): 1, (2, 1): 2, (4, 3): 3}\n",
        "\n",
        "for i in range(5):\n",
        "  for j in range(5):\n",
        "    matrix[(i,j)] = 0\n",
        "    if (i == 0 and j == 3):\n",
        "      matrix[(i,j)] = 1\n",
        "    elif (i == 2  and j == 1):\n",
        "      matrix[(i,j)] = 2\n",
        "    elif (i == 4  and j == 3):\n",
        "      matrix[(i,j)] = 3\n",
        "\n",
        "    print(\"matrix[{},{}] = {}\".format(i+1,j+1,matrix.get((i,j))))\n",
        "\n",
        "#print(matrix)\n",
        "#print(matrix.get(0,3),matrix.get(2,1),matrix.get(4,3))"
      ],
      "execution_count": 1,
      "outputs": [
        {
          "output_type": "stream",
          "text": [
            "matrix[1,1] = 0\n",
            "matrix[1,2] = 0\n",
            "matrix[1,3] = 0\n",
            "matrix[1,4] = 1\n",
            "matrix[1,5] = 0\n",
            "matrix[2,1] = 0\n",
            "matrix[2,2] = 0\n",
            "matrix[2,3] = 0\n",
            "matrix[2,4] = 0\n",
            "matrix[2,5] = 0\n",
            "matrix[3,1] = 0\n",
            "matrix[3,2] = 2\n",
            "matrix[3,3] = 0\n",
            "matrix[3,4] = 0\n",
            "matrix[3,5] = 0\n",
            "matrix[4,1] = 0\n",
            "matrix[4,2] = 0\n",
            "matrix[4,3] = 0\n",
            "matrix[4,4] = 0\n",
            "matrix[4,5] = 0\n",
            "matrix[5,1] = 0\n",
            "matrix[5,2] = 0\n",
            "matrix[5,3] = 0\n",
            "matrix[5,4] = 3\n",
            "matrix[5,5] = 0\n"
          ],
          "name": "stdout"
        }
      ]
    },
    {
      "cell_type": "code",
      "metadata": {
        "id": "GyLPHdz38j95",
        "colab": {
          "base_uri": "https://localhost:8080/"
        },
        "outputId": "6d38d30a-c93c-4130-efff-0078d02e8cff"
      },
      "source": [
        "# 2 - Contagem de Letras.\n",
        "# a) Utilizando dicionários, escreva uma função que tome como argumento uma palavra (string) e retorne um dicionário que tem como key a letra da palavra e como valor o número \n",
        "#    de vezes que ela aparece na palavra. Tal dicionário é chamado de tabela de frequência. Dica: Utilize o método get dos dicionários.\n",
        "# b) Utilizando os métodos sort() (referente a listas) e items() (referente a dicionários), imprima na tela uma lista ordenada alfabeticamente da tabela de frequência obtida \n",
        "#    no item a).\n",
        "\n",
        "# parte a\n",
        "def sep_let(letra):\n",
        "  letras = {}\n",
        "  for a in letra.lower():\n",
        "    if a in letras:\n",
        "      letras[a] += 1\n",
        "    else:\n",
        "      letras[a] = 1\n",
        "  return letras\n",
        "\n",
        "print(sep_let(\"Contagem de Letras\"))\n",
        "\n",
        "# parte b\n",
        "\n",
        "def ord_let(letra):\n",
        "  letras = {}\n",
        "  for a in letra.lower():\n",
        "    if a in letras:\n",
        "      letras[a] += 1\n",
        "    else:\n",
        "      letras[a] = 1\n",
        "  \n",
        "  return sorted(list(letras.items()))\n",
        "\n",
        "print(ord_let(\"Contagem de Letras\"))\n"
      ],
      "execution_count": 4,
      "outputs": [
        {
          "output_type": "stream",
          "text": [
            "{'c': 1, 'o': 1, 'n': 1, 't': 2, 'a': 2, 'g': 1, 'e': 3, 'm': 1, ' ': 2, 'd': 1, 'l': 1, 'r': 1, 's': 1}\n",
            "[(' ', 2), ('a', 2), ('c', 1), ('d', 1), ('e', 3), ('g', 1), ('l', 1), ('m', 1), ('n', 1), ('o', 1), ('r', 1), ('s', 1), ('t', 2)]\n"
          ],
          "name": "stdout"
        }
      ]
    },
    {
      "cell_type": "code",
      "metadata": {
        "id": "jA0k2DpZ87sW",
        "colab": {
          "base_uri": "https://localhost:8080/"
        },
        "outputId": "40aedde5-aa04-4ad6-97c6-e0874207cb87"
      },
      "source": [
        "\n",
        "# 3 - Escreva um programa que leia uma string e retorne uma tabela das letras do alfabeto em ordem alfabética que ocorrem na string junto com o número de vezes que cada letra ocorre.\n",
        "#   Letras maiúsculas devem deve ser ignoradas. Um exemplo de saída do programa quando o usuário digita os dados “ThiS is String with Upper and lower case Letters”, seria o seguinte:\n",
        "# a 2\n",
        "# c 1\n",
        "# d 1\n",
        "# e 5\n",
        "# g 1\n",
        "# h 2\n",
        "# i 4\n",
        "# l 2\n",
        "# n 2\n",
        "# o 1\n",
        "# p 2\n",
        "# r 4\n",
        "# s 5\n",
        "# t 5\n",
        "# u 1\n",
        "# w 2\n",
        "\n",
        "for i,j in ord_let(\"ThiS is String with Upper and lower case Letters\"):\n",
        "  if i != \" \":\n",
        "    print(i,j)\n"
      ],
      "execution_count": 3,
      "outputs": [
        {
          "output_type": "stream",
          "text": [
            "a 2\n",
            "c 1\n",
            "d 1\n",
            "e 5\n",
            "g 1\n",
            "h 2\n",
            "i 4\n",
            "l 2\n",
            "n 2\n",
            "o 1\n",
            "p 2\n",
            "r 4\n",
            "s 5\n",
            "t 5\n",
            "u 1\n",
            "w 2\n"
          ],
          "name": "stdout"
        }
      ]
    }
  ]
}