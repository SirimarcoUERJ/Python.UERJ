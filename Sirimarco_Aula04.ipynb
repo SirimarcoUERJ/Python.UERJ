{
  "nbformat": 4,
  "nbformat_minor": 0,
  "metadata": {
    "colab": {
      "name": "Sirimarco_Aula4.ipynb",
      "provenance": [],
      "authorship_tag": "ABX9TyMLOh/sH+QiDaL1SM/nLVCM",
      "include_colab_link": true
    },
    "kernelspec": {
      "name": "python3",
      "display_name": "Python 3"
    }
  },
  "cells": [
    {
      "cell_type": "markdown",
      "metadata": {
        "id": "view-in-github",
        "colab_type": "text"
      },
      "source": [
        "<a href=\"https://colab.research.google.com/github/SirimarcoUERJ/Python.UERJ/blob/master/Sirimarco_Aula4.ipynb\" target=\"_parent\"><img src=\"https://colab.research.google.com/assets/colab-badge.svg\" alt=\"Open In Colab\"/></a>"
      ]
    },
    {
      "cell_type": "code",
      "metadata": {
        "id": "hUnIIYHgjOCM",
        "outputId": "11c0017f-3690-4882-ab60-9414496fad91",
        "colab": {
          "base_uri": "https://localhost:8080/",
          "height": 85
        }
      },
      "source": [
        "def do_twice (f, x): \n",
        "    f(x)\n",
        "    f(x)\n",
        "def print_twice(x):\n",
        "  print(x)\n",
        "  print(x)\n",
        "def do_four(f):\n",
        "  f\n",
        "  f\n",
        "\n",
        "do_four(do_twice(print_twice, \"spam\"))\n"
      ],
      "execution_count": 96,
      "outputs": [
        {
          "output_type": "stream",
          "text": [
            "spam\n",
            "spam\n",
            "spam\n",
            "spam\n"
          ],
          "name": "stdout"
        }
      ]
    }
  ]
}
