{
  "nbformat": 4,
  "nbformat_minor": 0,
  "metadata": {
    "colab": {
      "name": "Sirimarco_Aula5.ipynb",
      "provenance": [],
      "authorship_tag": "ABX9TyMqQPzsNQoWJkn+v9eGjQ1V",
      "include_colab_link": true
    },
    "kernelspec": {
      "name": "python3",
      "display_name": "Python 3"
    }
  },
  "cells": [
    {
      "cell_type": "markdown",
      "metadata": {
        "id": "view-in-github",
        "colab_type": "text"
      },
      "source": [
        "<a href=\"https://colab.research.google.com/github/SirimarcoUERJ/Python.UERJ/blob/master/Sirimarco_Aula5.ipynb\" target=\"_parent\"><img src=\"https://colab.research.google.com/assets/colab-badge.svg\" alt=\"Open In Colab\"/></a>"
      ]
    },
    {
      "cell_type": "code",
      "metadata": {
        "id": "n7Ai9U_w3_Of"
      },
      "source": [
        "#  1 - [Não é possível fazer no Google Colab. Pule para o exercício 2] Modifique o programa da tartaruga (primeiro exemplo) para que,\n",
        "#\tantes de criar a janela, ele solicite que o usuário insira a cor de fundo desejada. Ele deve armazenar as respostas do usuário \n",
        "#\tem uma variável e modificar a cor da janela de acordo com os desejos do usuário.\n",
        "\n",
        "import turtle\n",
        "print(\"Exemplos de cores \\n1 - antique white \\n2 - aquamarine \\n3 - black \\n4 - brown\")\n",
        "Vcor = int(input(\"Digite o valor para uma das cores de fundo: \"))\n",
        "cor = \"\"\n",
        "\n",
        "if(Vcor == 1):\n",
        "\tcor = \"antique white\"\n",
        "if(Vcor == 2):\n",
        "\tcor = \"aquamarine\"\n",
        "if(Vcor == 3):\n",
        "\tcor = \"black\"\n",
        "if(Vcor == 4):\n",
        "\tcor = \"brown\"\n",
        "\n",
        "tartaruga = turtle.Turtle()\n",
        "#tartaruga.shape(\"turtle\")\n",
        "tartaruga.color(\"white\")\n",
        "sw = turtle.Screen()\n",
        "sw.title('Exercicio_1')\n",
        "sw.bgcolor(cor)\n",
        "tartaruga.width(3)\n",
        "tartaruga.forward(150)\n",
        "tartaruga.left(90)\n",
        "tartaruga.forward(75)\n",
        "\n",
        "sw.mainloop()"
      ],
      "execution_count": null,
      "outputs": []
    },
    {
      "cell_type": "code",
      "metadata": {
        "id": "vObl8vzIbRrm"
      },
      "source": [
        "#  2 - Faça o mesmo para a largura da caneta da tartaruga. Dica: seu diálogo com o usuário retornará uma string, mas o método pensize \n",
        "#\t( width no Google Colab) espera que seu argumento seja um int. Então, você precisará converter a string em um int antes de passá-la \n",
        "#\tpara pensize. Investiguem os métodos e atributos do módulo turtle (ColabTurtle no Google Colab);\n",
        "\n",
        "import turtle\n",
        "print(\"Exemplos de cores \\n1 - antique white \\n2 - aquamarine \\n3 - black \\n4 - brown\")\n",
        "Vcor = int(input(\"Digite o valor para uma das cores de fundo: \"))\n",
        "SizePenTurtle = int(input(\"Digite a espessura da linha da 'Turtle': \"))\n",
        "cor = \"\"\n",
        "if(Vcor == 1):\n",
        "\tcor = \"antique white\"\n",
        "elif(Vcor == 2):\n",
        "\tcor = \"aquamarine\"\n",
        "elif(Vcor == 3):\n",
        "\tcor = \"black\"\n",
        "elif(Vcor == 4):\n",
        "\tcor = \"brown\"\n",
        "else:\n",
        "\tprint(\"Erro,cor Default escolhida.\")\n",
        "\tcor = \"black\"\n",
        "\n",
        "tartaruga = turtle.Turtle()\n",
        "#tartaruga.shape(\"turtle\")\n",
        "tartaruga.color(\"white\")\n",
        "sw = turtle.Screen()\n",
        "sw.title('Exercicio_1')\n",
        "sw.bgcolor(cor)\n",
        "tartaruga.pensize(SizePenTurtle)\n",
        "tartaruga.forward(150)\n",
        "tartaruga.left(90)\n",
        "tartaruga.forward(75)"
      ],
      "execution_count": null,
      "outputs": []
    },
    {
      "cell_type": "code",
      "metadata": {
        "id": "NDwoaLInbU6Q"
      },
      "source": [
        "# 3 - Desenhe um quadrado, usando a forma de tartaruga, ao invés da flecha, para desenhar (caso esteja no Google Colab, não precisa mudar a forma).\n",
        "# mude a velocidade com que a tartaruga faz o desenho.\n",
        "\n",
        "import turtle\n",
        "print(\"Exemplos de cores \\n1 - antique white \\n2 - aquamarine \\n3 - black \\n4 - brown\")\n",
        "Vcor = int(input(\"Digite o valor para uma das cores de fundo: \"))\n",
        "SizePenTurtle = int(input(\"Digite a espessura da linha da 'Turtle': \"))\n",
        "SpeedPenTurtle = float(input(\"Digite a velocidade da linha da 'Turtle': \"))\n",
        "cor = \"\"\n",
        "if(Vcor == 1):\n",
        "\tcor = \"antique white\"\n",
        "elif(Vcor == 2):\n",
        "\tcor = \"aquamarine\"\n",
        "elif(Vcor == 3):\n",
        "\tcor = \"black\"\n",
        "elif(Vcor == 4):\n",
        "\tcor = \"brown\"\n",
        "else:\n",
        "\tprint(\"Erro,cor Default escolhida.\")\n",
        "\tcor = \"black\"\n",
        "\n",
        "tartaruga = turtle.Turtle()\n",
        "tartaruga.speed(SpeedPenTurtle)\n",
        "tartaruga.shape(\"turtle\")\n",
        "tartaruga.color(\"white\")\n",
        "sw = turtle.Screen()\n",
        "sw.title('Exercicio_1')\n",
        "sw.bgcolor(cor)\n",
        "tartaruga.pensize(SizePenTurtle)\n",
        "for i in range(2):\n",
        "\ttartaruga.forward(150)\n",
        "\ttartaruga.left(90)\n",
        "\ttartaruga.forward(75)\n",
        "\ttartaruga.left(90)"
      ],
      "execution_count": null,
      "outputs": []
    },
    {
      "cell_type": "code",
      "metadata": {
        "id": "YQG5bkeDgMlM"
      },
      "source": [
        "# 4 - Sabendo que o ângulo interno da ponta de uma estrela de 5 pontas é de 36 graus, desenhe uma estrela.\n",
        "\n",
        "import turtle\n",
        "\n",
        "tartaruga = turtle.Turtle()\n",
        "tartaruga.speed(1)\n",
        "tartaruga.shape(\"turtle\")\n",
        "tartaruga.color(\"white\")\n",
        "sw = turtle.Screen()\n",
        "sw.title('Exercicio_1')\n",
        "sw.bgcolor(\"black\")\n",
        "tartaruga.pensize(2)\n",
        "for i in range(5):\n",
        "\ttartaruga.forward(80)\n",
        "\ttartaruga.right(180 - 36)\n",
        "\n",
        "sw.mainloop()\n"
      ],
      "execution_count": null,
      "outputs": []
    },
    {
      "cell_type": "code",
      "metadata": {
        "id": "iqQtFqo3bVT2"
      },
      "source": [
        "# 5 - Sabendo o ângulo interno da ponta de uma estrela, desenhe quatro estrelas em uma janela, com uma certa distância entre elas. Dica: \n",
        "#\tuse a função penup() e pendown() do módulo turtle.\n",
        "\n",
        "import turtle\n",
        "\n",
        "tartaruga = turtle.Turtle()\n",
        "tartaruga.speed(0)\n",
        "tartaruga.shape(\"turtle\")\n",
        "tartaruga.color(\"white\")\n",
        "sw = turtle.Screen()\n",
        "sw.title('Exercicio_1')\n",
        "sw.bgcolor(\"black\")\n",
        "tartaruga.penup()\n",
        "tartaruga.right(180)\n",
        "tartaruga.forward(250)\n",
        "tartaruga.pendown()\n",
        "tartaruga.pensize(2)\n",
        "for t in range(4):\n",
        "\tfor i in range(5):\n",
        "\t\ttartaruga.forward(80)\n",
        "\t\ttartaruga.right(180 - 36)\n",
        "\ttartaruga.right(180)\n",
        "\ttartaruga.penup()\n",
        "\ttartaruga.forward(110 + 80)\n",
        "\ttartaruga.pendown()\n",
        "\ttartaruga.right(180)\n",
        "sw.mainloop()\n"
      ],
      "execution_count": null,
      "outputs": []
    }
  ]
}
